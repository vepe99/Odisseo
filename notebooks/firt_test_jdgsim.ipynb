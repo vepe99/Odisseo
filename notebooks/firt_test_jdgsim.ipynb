{
 "cells": [
  {
   "cell_type": "code",
   "execution_count": 1,
   "metadata": {},
   "outputs": [],
   "source": [
    "import os\n",
    "# os.environ[\"CUDA_VISIBLE_DEVICES\"] = \"0\"  # Use only the first GPU\n",
    "from typing import Optional, Tuple, Callable, Union, List\n",
    "from functools import partial\n",
    "\n",
    "import matplotlib.pyplot as plt\n",
    "import jax\n",
    "import jax.numpy as jnp\n",
    "from jax import vmap, jit\n",
    "from jax import random\n",
    "\n",
    "import jdgsim\n",
    "from jdgsim import construct_initial_state\n",
    "from jdgsim.potentials import NFW\n",
    "from jdgsim.integrators import leapfrog\n",
    "from jdgsim.dynamics import direct_acc\n",
    "from jdgsim.option_classes import SimulationConfig, SimulationParams\n",
    "from jdgsim.initial_condition import Plummer_sphere\n",
    "from jdgsim.utils import center_of_mass\n",
    "from jdgsim.time_integration import time_integration"
   ]
  },
  {
   "cell_type": "code",
   "execution_count": 2,
   "metadata": {},
   "outputs": [
    {
     "name": "stdout",
     "output_type": "stream",
     "text": [
      "SimulationConfig(N_particles=1000, dimensions=3, return_snapshots=False, numb_snapshots=10, fixed_timestep=True)\n",
      "SimulationParams(G=4.498e-06, t_end=1.0)\n"
     ]
    }
   ],
   "source": [
    "# Define the \n",
    "config = SimulationConfig() #default values\n",
    "\n",
    "params = SimulationParams() #default values\n",
    "\n",
    "print(config)\n",
    "print(params)"
   ]
  },
  {
   "cell_type": "code",
   "execution_count": 3,
   "metadata": {},
   "outputs": [],
   "source": [
    "#set up the particles in the initial state\n",
    "position, velocity, mass = Plummer_sphere(key=random.PRNGKey(0), params=params, config=config)\n",
    "\n",
    "#move the center to 10 Kpc distance from the center of the galaxy\n",
    "position = position + jnp.array([10, 0, 0])\n",
    "\n",
    "#initialize the initial state\n",
    "initial_state = construct_initial_state(position, velocity)\n",
    "\n",
    "#center of mass\n",
    "com = center_of_mass(initial_state, mass)"
   ]
  },
  {
   "cell_type": "code",
   "execution_count": 4,
   "metadata": {},
   "outputs": [
    {
     "name": "stderr",
     "output_type": "stream",
     "text": [
      "/export/home/vgiusepp/miniconda3/envs/test_sstrax/lib/python3.12/site-packages/jax/_src/core.py:700: FutureWarning: unhashable type: <class 'jax._src.interpreters.partial_eval.DynamicJaxprTracer'>. Attempting to hash a tracer will lead to an error in a future JAX release.\n",
      "  warnings.warn(\n",
      "/export/home/vgiusepp/miniconda3/envs/test_sstrax/lib/python3.12/site-packages/jax/_src/core.py:700: FutureWarning: unhashable type: <class 'jax._src.interpreters.partial_eval.DynamicJaxprTracer'>. Attempting to hash a tracer will lead to an error in a future JAX release.\n",
      "  warnings.warn(\n"
     ]
    }
   ],
   "source": [
    "final_state = time_integration(initial_state, mass, config, params)"
   ]
  },
  {
   "cell_type": "code",
   "execution_count": null,
   "metadata": {},
   "outputs": [
    {
     "data": {
      "text/plain": [
       "Array([[[-7.96182156e+00, -1.69075832e-01, -9.58577156e-01],\n",
       "        [ 2.11125679e+01,  4.46847856e-01,  2.54345846e+00]],\n",
       "\n",
       "       [[-8.69143486e+00, -1.22750308e-02,  3.45935896e-02],\n",
       "        [ 1.90425797e+01,  2.75179297e-02, -8.01297650e-02]],\n",
       "\n",
       "       [[-7.76151800e+00,  2.57508177e-02, -3.42531234e-01],\n",
       "        [ 2.22194881e+01, -7.33626783e-02,  9.84624028e-01]],\n",
       "\n",
       "       ...,\n",
       "\n",
       "       [[ 7.46357083e-01,  4.60744292e-01, -4.01187152e-01],\n",
       "        [-2.38797626e+01, -1.47444677e+01,  1.28366585e+01]],\n",
       "\n",
       "       [[-6.98379850e+00, -4.64973748e-01, -4.02199209e-01],\n",
       "        [ 2.48050671e+01,  1.65051675e+00,  1.42812657e+00]],\n",
       "\n",
       "       [[-1.23370733e+01,  1.41978419e+00, -1.13456905e+00],\n",
       "        [ 3.20607495e+00, -3.68995368e-01,  2.93717355e-01]]],      dtype=float32)"
      ]
     },
     "execution_count": 6,
     "metadata": {},
     "output_type": "execute_result"
    }
   ],
   "source": [
    "fig = plt.figure()\n",
    "ax = fig.add_subplot(111, projection='3d')\n",
    "ax.scatter(positions[:, 0], positions[:, 1], positions[:, 2], s=1)\n",
    "ax.scatter(update_state[:, 0, 0], update_state[:, 0, 1], update_state[:, 0, 2], alpha=0.1)\n",
    "ax.set_xlabel('X')\n",
    "ax.set_ylabel('Y')\n",
    "ax.set_zlabel('Z')\n",
    "plt.show()"
   ]
  }
 ],
 "metadata": {
  "kernelspec": {
   "display_name": "test_sstrax",
   "language": "python",
   "name": "python3"
  },
  "language_info": {
   "codemirror_mode": {
    "name": "ipython",
    "version": 3
   },
   "file_extension": ".py",
   "mimetype": "text/x-python",
   "name": "python",
   "nbconvert_exporter": "python",
   "pygments_lexer": "ipython3",
   "version": "3.12.7"
  }
 },
 "nbformat": 4,
 "nbformat_minor": 2
}
