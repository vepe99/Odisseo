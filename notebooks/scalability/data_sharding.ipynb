{
 "cells": [
  {
   "cell_type": "code",
   "execution_count": 1,
   "metadata": {},
   "outputs": [],
   "source": [
    "import os\n",
    "from math import pi\n",
    "\n",
    "# Use 8 CPU devices\n",
    "# os.environ[\"XLA_FLAGS\"] = '--xla_force_host_platform_device_count=2'\n",
    "\n",
    "os.environ[\"CUDA_VISIBLE_DEVICES\"] = \"1, 2 \"  # Use only the first GPU\n",
    "from typing import Optional, Tuple, Callable, Union, List\n",
    "from functools import partial\n",
    "\n",
    "import matplotlib.pyplot as plt\n",
    "import jax\n",
    "import jax.numpy as jnp\n",
    "from jax import vmap, jit, pmap\n",
    "from jax import random\n",
    "\n",
    "# jax.config.update(\"jax_enable_x64\", True)\n",
    "\n",
    "import numpy as np\n",
    "from astropy import units as u\n",
    "from astropy import constants as c\n",
    "\n",
    "import odisseo\n",
    "from odisseo import construct_initial_state\n",
    "from odisseo.integrators import leapfrog\n",
    "from odisseo.dynamics import direct_acc, DIRECT_ACC, DIRECT_ACC_LAXMAP, DIRECT_ACC_FOR_LOOP, DIRECT_ACC_MATRIX\n",
    "from odisseo.option_classes import SimulationConfig, SimulationParams, MNParams, NFWParams, PlummerParams, MN_POTENTIAL, NFW_POTENTIAL\n",
    "from odisseo.initial_condition import Plummer_sphere, ic_two_body, sample_position_on_sphere, inclined_circular_velocity\n",
    "from odisseo.utils import center_of_mass\n",
    "from odisseo.time_integration import time_integration\n",
    "from odisseo.units import CodeUnits\n",
    "from odisseo.visualization import create_3d_gif, create_projection_gif, energy_angular_momentum_plot\n",
    "from odisseo.potentials import MyamotoNagai, NFW\n",
    "\n",
    "\n",
    "\n",
    "plt.rcParams.update({\n",
    "    'font.size': 20,\n",
    "    'axes.labelsize': 20,\n",
    "    'xtick.labelsize': 13,\n",
    "    'ytick.labelsize': 13,\n",
    "    'legend.fontsize': 15,\n",
    "})"
   ]
  },
  {
   "cell_type": "code",
   "execution_count": 2,
   "metadata": {},
   "outputs": [
    {
     "data": {
      "text/plain": [
       "[CudaDevice(id=0), CudaDevice(id=1)]"
      ]
     },
     "execution_count": 2,
     "metadata": {},
     "output_type": "execute_result"
    }
   ],
   "source": [
    "jax.devices()"
   ]
  },
  {
   "cell_type": "code",
   "execution_count": 3,
   "metadata": {},
   "outputs": [],
   "source": [
    "import jax\n",
    "import jax.numpy as jnp\n",
    "from jax.sharding import Mesh, PartitionSpec as P\n",
    "from jax.experimental import shard_map\n",
    "from jax.sharding import NamedSharding\n",
    "\n",
    "# Create a mesh from all devices\n",
    "devices = jax.devices()\n",
    "mesh = Mesh(devices, axis_names=('N_particles',))\n",
    "sharding = NamedSharding(mesh, P('N_particles')) \n",
    "\n",
    "#  # jitting and device_put does weird stuff with what is put where\n",
    "@partial(jit, static_argnames=('sharding'))\n",
    "def shard_positions_with_shard_map(positions, sharding):\n",
    "    \"\"\"\n",
    "    Shards positions across available devices along axis 0 using shard_map.\n",
    "    \n",
    "    Args:\n",
    "        positions: Array of shape (n, d) to be sharded\n",
    "        \n",
    "    Returns:\n",
    "        Tuple of (sharded_positions, mesh, sharding)\n",
    "    \"\"\"\n",
    "    \n",
    "    \n",
    "    # Shard the positions array\n",
    "    sharded_positions = jax.device_put(positions, sharding)\n",
    "    \n",
    "    return sharded_positions\n"
   ]
  },
  {
   "cell_type": "code",
   "execution_count": 4,
   "metadata": {},
   "outputs": [],
   "source": [
    "code_length = 10.0 * u.kpc\n",
    "code_mass = 1e8 * u.Msun\n",
    "G = 1 \n",
    "code_units = CodeUnits(code_length, code_mass, G=G)\n",
    "\n",
    "\n",
    "# Define the \n",
    "config = SimulationConfig(N_particles=1_000_000, \n",
    "                          return_snapshots=True, \n",
    "                          num_snapshots=100, \n",
    "                          num_timesteps=1_000, \n",
    "                          acceleration_scheme=DIRECT_ACC_LAXMAP,\n",
    "                          double_map = True,\n",
    "                          batch_size=100,\n",
    "                          softening=(0.1 * u.kpc).to(code_units.code_length).value) #default values\n",
    "\n",
    "params = SimulationParams(t_end = (1 * u.Gyr).to(code_units.code_time).value,  \n",
    "                          Plummer_params= PlummerParams(Mtot=(1e8 * u.Msun).to(code_units.code_mass).value,\n",
    "                                                        a=(1 * u.kpc).to(code_units.code_length).value),\n",
    "                          G=G, ) \n",
    "\n",
    "#set up the particles in the initial state\n",
    "positions, velocities, mass = Plummer_sphere(key=random.PRNGKey(0), params=params, config=config)\n",
    "initial_state = construct_initial_state(positions, velocities)\n",
    "\n",
    "# Plummer sphere distribution\n",
    "# fig = plt.figure(figsize=(15, 5))\n",
    "# ax = fig.add_subplot(121)\n",
    "# ax.hist((jnp.linalg.norm(positions, axis=1) * code_units.code_length).to(u.kpc), bins=100, histtype='step', color='k')\n",
    "# ax.axvline((params.Plummer_params.a*code_units.code_length).to(u.kpc).value, color='r', label='Plummer a')\n",
    "# ax.set_xlabel('R [kpc]')\n",
    "\n",
    "# ax = fig.add_subplot(122)\n",
    "# ax.hist(jnp.linalg.norm((velocities * code_units.code_velocity).to(u.km/u.s).value, axis=1), bins=100, histtype='step', color='k')\n",
    "# ax.set_xlabel('v [km/s]')\n",
    "# plt.show()\n",
    "\n",
    "\n"
   ]
  },
  {
   "cell_type": "code",
   "execution_count": 5,
   "metadata": {},
   "outputs": [
    {
     "name": "stdout",
     "output_type": "stream",
     "text": [
      "{CudaDevice(id=0), CudaDevice(id=1)}\n"
     ]
    },
    {
     "data": {
      "text/html": [
       "<pre style=\"white-space:pre;overflow-x:auto;line-height:normal;font-family:Menlo,'DejaVu Sans Mono',consolas,'Courier New',monospace\"><span style=\"color: #ffffff; text-decoration-color: #ffffff; background-color: #393b79\">         </span>\n",
       "<span style=\"color: #ffffff; text-decoration-color: #ffffff; background-color: #393b79\">         </span>\n",
       "<span style=\"color: #ffffff; text-decoration-color: #ffffff; background-color: #393b79\">  GPU 0  </span>\n",
       "<span style=\"color: #ffffff; text-decoration-color: #ffffff; background-color: #393b79\">         </span>\n",
       "<span style=\"color: #ffffff; text-decoration-color: #ffffff; background-color: #393b79\">         </span>\n",
       "<span style=\"color: #ffffff; text-decoration-color: #ffffff; background-color: #393b79\">         </span>\n",
       "<span style=\"color: #ffffff; text-decoration-color: #ffffff; background-color: #393b79\">         </span>\n",
       "<span style=\"color: #ffffff; text-decoration-color: #ffffff; background-color: #393b79\">         </span>\n",
       "<span style=\"color: #ffffff; text-decoration-color: #ffffff; background-color: #393b79\">  GPU 1  </span>\n",
       "<span style=\"color: #ffffff; text-decoration-color: #ffffff; background-color: #393b79\">         </span>\n",
       "<span style=\"color: #ffffff; text-decoration-color: #ffffff; background-color: #393b79\">         </span>\n",
       "<span style=\"color: #ffffff; text-decoration-color: #ffffff; background-color: #393b79\">         </span>\n",
       "</pre>\n"
      ],
      "text/plain": [
       "\u001b[38;2;255;255;255;48;2;57;59;121m         \u001b[0m\n",
       "\u001b[38;2;255;255;255;48;2;57;59;121m         \u001b[0m\n",
       "\u001b[38;2;255;255;255;48;2;57;59;121m  \u001b[0m\u001b[38;2;255;255;255;48;2;57;59;121mGPU 0\u001b[0m\u001b[38;2;255;255;255;48;2;57;59;121m  \u001b[0m\n",
       "\u001b[38;2;255;255;255;48;2;57;59;121m         \u001b[0m\n",
       "\u001b[38;2;255;255;255;48;2;57;59;121m         \u001b[0m\n",
       "\u001b[38;2;255;255;255;48;2;57;59;121m         \u001b[0m\n",
       "\u001b[38;2;255;255;255;48;2;57;59;121m         \u001b[0m\n",
       "\u001b[38;2;255;255;255;48;2;57;59;121m         \u001b[0m\n",
       "\u001b[38;2;255;255;255;48;2;57;59;121m  \u001b[0m\u001b[38;2;255;255;255;48;2;57;59;121mGPU 1\u001b[0m\u001b[38;2;255;255;255;48;2;57;59;121m  \u001b[0m\n",
       "\u001b[38;2;255;255;255;48;2;57;59;121m         \u001b[0m\n",
       "\u001b[38;2;255;255;255;48;2;57;59;121m         \u001b[0m\n",
       "\u001b[38;2;255;255;255;48;2;57;59;121m         \u001b[0m\n"
      ]
     },
     "metadata": {},
     "output_type": "display_data"
    }
   ],
   "source": [
    "shard_position = jax.device_put(positions, sharding)\n",
    "print(shard_position.devices())\n",
    "jax.debug.visualize_array_sharding(shard_position)"
   ]
  },
  {
   "cell_type": "code",
   "execution_count": 6,
   "metadata": {},
   "outputs": [],
   "source": [
    "# distance = jnp.linalg.norm(shard_position - shard_position[:, None, :], axis=2)\n",
    "# jax.debug.visualize_array_sharding(distance)"
   ]
  },
  {
   "cell_type": "code",
   "execution_count": 7,
   "metadata": {},
   "outputs": [
    {
     "name": "stdout",
     "output_type": "stream",
     "text": [
      "(1000000, 2, 3)\n",
      "{CudaDevice(id=0), CudaDevice(id=1)}\n",
      "(1000000,)\n",
      "{CudaDevice(id=0), CudaDevice(id=1)}\n"
     ]
    }
   ],
   "source": [
    "#let's shard position, velocity and mass\n",
    "shard_inital_state = jax.device_put(initial_state, sharding)\n",
    "print(shard_inital_state.shape)\n",
    "print(shard_inital_state.devices())\n",
    "\n",
    "shard_mass = jax.device_put(mass, sharding)\n",
    "print(shard_mass.shape)\n",
    "print(shard_mass.devices())\n"
   ]
  },
  {
   "cell_type": "code",
   "execution_count": null,
   "metadata": {},
   "outputs": [],
   "source": [
    "#lets's try to integrate now\n",
    "snapshots = jax.block_until_ready(time_integration(shard_inital_state, shard_mass, config, params))"
   ]
  },
  {
   "cell_type": "code",
   "execution_count": null,
   "metadata": {},
   "outputs": [
    {
     "data": {
      "text/plain": [
       "{CudaDevice(id=0), CudaDevice(id=1)}"
      ]
     },
     "execution_count": 12,
     "metadata": {},
     "output_type": "execute_result"
    }
   ],
   "source": [
    "snapshots.states.devices()"
   ]
  },
  {
   "cell_type": "code",
   "execution_count": null,
   "metadata": {},
   "outputs": [],
   "source": [
    "snapshots = jax.block_until_ready(time_integration(initial_state, mass, config, params))"
   ]
  },
  {
   "cell_type": "code",
   "execution_count": null,
   "metadata": {},
   "outputs": [],
   "source": []
  }
 ],
 "metadata": {
  "kernelspec": {
   "display_name": "test_sstrax",
   "language": "python",
   "name": "python3"
  },
  "language_info": {
   "codemirror_mode": {
    "name": "ipython",
    "version": 3
   },
   "file_extension": ".py",
   "mimetype": "text/x-python",
   "name": "python",
   "nbconvert_exporter": "python",
   "pygments_lexer": "ipython3",
   "version": "3.12.2"
  }
 },
 "nbformat": 4,
 "nbformat_minor": 2
}
