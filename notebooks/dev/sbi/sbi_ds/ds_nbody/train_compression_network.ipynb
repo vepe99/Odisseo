{
 "cells": [
  {
   "cell_type": "code",
   "execution_count": 1,
   "id": "107c77d9",
   "metadata": {},
   "outputs": [
    {
     "name": "stderr",
     "output_type": "stream",
     "text": [
      "2025-05-09 05:34:43.506751: E external/local_xla/xla/stream_executor/cuda/cuda_fft.cc:467] Unable to register cuFFT factory: Attempting to register factory for plugin cuFFT when one has already been registered\n",
      "WARNING: All log messages before absl::InitializeLog() is called are written to STDERR\n",
      "E0000 00:00:1746761683.524899 3067450 cuda_dnn.cc:8579] Unable to register cuDNN factory: Attempting to register factory for plugin cuDNN when one has already been registered\n",
      "E0000 00:00:1746761683.530446 3067450 cuda_blas.cc:1407] Unable to register cuBLAS factory: Attempting to register factory for plugin cuBLAS when one has already been registered\n",
      "W0000 00:00:1746761683.544392 3067450 computation_placer.cc:177] computation placer already registered. Please check linkage and avoid linking the same target more than once.\n",
      "W0000 00:00:1746761683.544415 3067450 computation_placer.cc:177] computation placer already registered. Please check linkage and avoid linking the same target more than once.\n",
      "W0000 00:00:1746761683.544416 3067450 computation_placer.cc:177] computation placer already registered. Please check linkage and avoid linking the same target more than once.\n",
      "W0000 00:00:1746761683.544417 3067450 computation_placer.cc:177] computation placer already registered. Please check linkage and avoid linking the same target more than once.\n"
     ]
    }
   ],
   "source": [
    "import os\n",
    "os.environ[\"CUDA_VISIBLE_DEVICES\"] = \"4\"\n",
    "# from autocvd import autocvd\n",
    "# autocvd(num_gpus = 1)\n",
    "\n",
    "from functools import partial\n",
    "\n",
    "import numpy as np\n",
    "import matplotlib.pyplot as plt\n",
    "import jax\n",
    "import jax.numpy as jnp\n",
    "from jax import jit\n",
    "import optax\n",
    "import haiku as hk\n",
    "import re\n",
    "from tqdm import tqdm\n",
    "from pathlib import Path\n",
    "\n",
    "from tensorflow_probability.substrates import jax as tfp\n",
    "tfb = tfp.bijectors\n",
    "tfd = tfp.distributions\n",
    "\n",
    "\n",
    "from normflow_models import (AffineCoupling,\n",
    "                             AffineSigmoidCoupling,\n",
    "                             ConditionalRealNVP)"
   ]
  },
  {
   "cell_type": "code",
   "execution_count": 2,
   "id": "02a5bb55",
   "metadata": {},
   "outputs": [],
   "source": [
    "#class to Train the compressor, in our case we are going to train \n",
    "#the compressor with the vmim, so we will also need a Normalizing Flow \n",
    "#  which is going to be trained with the compressor\n",
    "\n",
    "class TrainModel:\n",
    "    def __init__(\n",
    "        self,\n",
    "        compressor,\n",
    "        nf,\n",
    "        optimizer,\n",
    "        loss_name,\n",
    "        dim=None,\n",
    "        info_compressor=None,\n",
    "    ):\n",
    "        self.compressor = compressor\n",
    "        self.nf = nf\n",
    "        self.optimizer = optimizer\n",
    "        self.dim = dim  # summary statistic dimension\n",
    "\n",
    "        if loss_name == \"train_compressor_mse\":\n",
    "            self.loss = self.loss_mse\n",
    "        elif loss_name == \"train_compressor_vmim\":\n",
    "            self.loss = self.loss_vmim\n",
    "        elif loss_name == \"train_compressor_gnll\":\n",
    "            self.loss = self.loss_gnll\n",
    "            if self.dim is None:\n",
    "                raise ValueError(\"dim should be specified when using gnll compressor\")\n",
    "        elif loss_name == \"loss_for_sbi\":\n",
    "            if info_compressor is None:\n",
    "                raise ValueError(\"sbi loss needs compressor informations\")\n",
    "            else:\n",
    "                self.info_compressor = info_compressor\n",
    "                self.loss = self.loss_nll\n",
    "\n",
    "    def loss_mse(self, params, theta, x, state_resnet):\n",
    "        \"\"\"Compute the Mean Squared Error loss\"\"\"\n",
    "        y, opt_state_resnet = self.compressor.apply(params, state_resnet, None, x)\n",
    "\n",
    "        loss = jnp.mean(jnp.sum((y - theta) ** 2, axis=1))\n",
    "\n",
    "        return loss, opt_state_resnet\n",
    "\n",
    "    def loss_mae(self, params, theta, x, state_resnet):\n",
    "        \"\"\"Compute the Mean Absolute Error loss\"\"\"\n",
    "        y, opt_state_resnet = self.compressor.apply(params, state_resnet, None, x)\n",
    "\n",
    "        loss = jnp.mean(jnp.sum(jnp.absolute(y - theta), axis=1))\n",
    "\n",
    "        return loss, opt_state_resnet\n",
    "\n",
    "    def loss_vmim(self, params, theta, x, state_resnet):\n",
    "        \"\"\"Compute the Variational Mutual Information Maximization loss\"\"\"\n",
    "        y, opt_state_resnet = self.compressor.apply(params, state_resnet, None, x)\n",
    "        log_prob = self.nf.apply(params, theta, y)\n",
    "\n",
    "        return -jnp.mean(log_prob), opt_state_resnet\n",
    "\n",
    "    def loss_gnll(self, params, theta, x, state_resnet):\n",
    "        \"\"\"Compute the Gaussian Negative Log Likelihood loss\"\"\"\n",
    "        y, opt_state_resnet = self.compressor.apply(params, state_resnet, None, x)\n",
    "        y_mean = y[..., : self.dim]\n",
    "        y_var = y[..., self.dim :]\n",
    "        y_var = tfb.FillScaleTriL(diag_bijector=tfb.Softplus(low=1e-3)).forward(y_var)\n",
    "\n",
    "        @jax.jit\n",
    "        @jax.vmap\n",
    "        def _get_log_prob(y_mean, y_var, theta):\n",
    "            likelihood = tfd.MultivariateNormalTriL(y_mean, y_var)\n",
    "            return likelihood.log_prob(theta)\n",
    "\n",
    "        loss = -jnp.mean(_get_log_prob(y_mean, y_var, theta))\n",
    "\n",
    "        return loss, opt_state_resnet\n",
    "\n",
    "    def loss_nll(self, params, theta, x, _):\n",
    "        \"\"\"Compute the Negative Log Likelihood loss.\n",
    "        This loss is for inference so it requires to have a trained compressor.\n",
    "        \"\"\"\n",
    "        y, _ = self.compressor.apply(\n",
    "            self.info_compressor[0], self.info_compressor[1], None, x\n",
    "        )\n",
    "        log_prob = self.nf.apply(params, theta, y)\n",
    "\n",
    "        return -jnp.mean(log_prob), _\n",
    "\n",
    "    @partial(jax.jit, static_argnums=(0,))\n",
    "    def update(self, model_params, opt_state, theta, x, state_resnet=None):\n",
    "        (loss, opt_state_resnet), grads = jax.value_and_grad(self.loss, has_aux=True)(\n",
    "            model_params, theta, x, state_resnet\n",
    "        )\n",
    "\n",
    "        updates, new_opt_state = self.optimizer.update(grads, opt_state)\n",
    "\n",
    "        new_params = optax.apply_updates(model_params, updates)\n",
    "\n",
    "        return loss, new_params, new_opt_state, opt_state_resnet"
   ]
  },
  {
   "cell_type": "code",
   "execution_count": 3,
   "id": "36dabbb5",
   "metadata": {},
   "outputs": [],
   "source": [
    "from typing import NamedTuple\n",
    "\n",
    "#mimic the argument parser used in the sbi_bm_lens\n",
    "\n",
    "class args_namedtuple(NamedTuple):\n",
    "\n",
    "    total_steps = 4500,\n",
    "\n",
    "    loss = \"train_compressor_vmim\",\n",
    "    # loss = \"train_compressor_mse\",\n",
    "\n",
    "\n",
    "args = args_namedtuple()\n",
    "dim = 64\n",
    "N_particles = 10_000\n"
   ]
  },
  {
   "cell_type": "code",
   "execution_count": 4,
   "id": "17114efd",
   "metadata": {},
   "outputs": [],
   "source": [
    "### create compressor \n",
    "\n",
    "#nf \n",
    "bijector_layers_compressor = [128] * 2\n",
    "\n",
    "bijector_compressor = partial(\n",
    "    AffineCoupling, layers=bijector_layers_compressor, activation=jax.nn.silu\n",
    ")\n",
    "\n",
    "NF_compressor = partial(ConditionalRealNVP, n_layers=4, bijector_fn=bijector_compressor)\n",
    "\n",
    "\n",
    "class Flow_nd_Compressor(hk.Module):\n",
    "    def __call__(self, y):\n",
    "        nvp = NF_compressor(dim)(y)\n",
    "        return nvp\n",
    "\n",
    "\n",
    "nf = hk.without_apply_rng(\n",
    "    hk.transform(lambda theta, y: Flow_nd_Compressor()(theta).log_prob(y).squeeze())\n",
    ")"
   ]
  },
  {
   "cell_type": "code",
   "execution_count": 5,
   "id": "03cdfdd7",
   "metadata": {},
   "outputs": [],
   "source": [
    "if args.loss == \"train_compressor_gnll\":\n",
    "    compress_dim = int(dim + ((dim**2) - dim) / 2 + dim)\n",
    "else:\n",
    "    compress_dim = dim"
   ]
  },
  {
   "cell_type": "code",
   "execution_count": 6,
   "id": "045c7918",
   "metadata": {},
   "outputs": [],
   "source": [
    "# class DeepSetsEncoder(hk.Module):\n",
    "#     def __init__(self, output_dim, hidden_dim: int = 128, name=None):\n",
    "#         super().__init__(name=name)\n",
    "#         self.hidden_dim = hidden_dim\n",
    "#         self.output_dim = output_dim\n",
    "\n",
    "#     def __call__(self, x):  # x: [N_particles, 6]\n",
    "#         # φ network: shared across all particles\n",
    "#         mlp_phi = hk.nets.MLP([self.hidden_dim, self.hidden_dim, self.output_dim])\n",
    "#         x_phi = mlp_phi(x)  # shape: [N_particles, output_dim]\n",
    "\n",
    "#         # Pooling over the set dimension (e.g., mean, sum)\n",
    "#         summary = jnp.mean(x_phi, axis=0)  # shape: [output_dim]\n",
    "\n",
    "#         return summary\n",
    "\n",
    "\n",
    "class DeepSetsEncoder(hk.Module):\n",
    "    def __init__(self, output_dim, hidden_dim: int = 128, name=None):\n",
    "        super().__init__(name=name)\n",
    "        self.hidden_dim = hidden_dim\n",
    "        self.output_dim = output_dim\n",
    "\n",
    "    def __call__(self, x):  # x: [N_particles, 6] or [B, N_particles, 6]\n",
    "        mlp_phi = hk.nets.MLP([self.hidden_dim, self.hidden_dim, self.hidden_dim, self.output_dim])\n",
    "\n",
    "        if x.ndim == 2:\n",
    "            # Unbatched case: [N_particles, 6]\n",
    "            x_phi = mlp_phi(x)  # [N_particles, output_dim]\n",
    "            summary = jnp.mean(x_phi, axis=0)  # [output_dim]\n",
    "        elif x.ndim == 3:\n",
    "            # Batched case: [B, N_particles, 6]\n",
    "            # Flatten for MLP: [B * N_particles, 6]\n",
    "            B, N, D = x.shape\n",
    "            x_flat = x.reshape(-1, D)\n",
    "            x_phi_flat = mlp_phi(x_flat)  # [B * N_particles, output_dim]\n",
    "            x_phi = x_phi_flat.reshape(B, N, self.output_dim)\n",
    "            summary = jnp.mean(x_phi, axis=1)  # [B, output_dim]\n",
    "        else:\n",
    "            raise ValueError(f\"Input must be of shape (N, D) or (B, N, D), got {x.shape}\")\n",
    "\n",
    "        return summary"
   ]
  },
  {
   "cell_type": "code",
   "execution_count": 7,
   "id": "c3481ca9",
   "metadata": {},
   "outputs": [],
   "source": [
    "compressor = hk.transform_with_state(\n",
    "    lambda y: DeepSetsEncoder(compress_dim)(y)\n",
    ")"
   ]
  },
  {
   "cell_type": "code",
   "execution_count": 8,
   "id": "d0ebbc79",
   "metadata": {},
   "outputs": [],
   "source": [
    "### TRAIN\n",
    "# init compressor\n",
    "parameters_SetNet, opt_state_SetNet = compressor.init(\n",
    "    jax.random.PRNGKey(0), y=jnp.ones([1, N_particles, 6])\n",
    ")\n",
    "\n",
    "# init nf\n",
    "params_nf = nf.init(\n",
    "    jax.random.PRNGKey(0), theta=0.5 * jnp.ones([1, 5]), y=0.5 * jnp.ones([1, dim])\n",
    ")\n"
   ]
  },
  {
   "cell_type": "code",
   "execution_count": 9,
   "id": "f41b87b6",
   "metadata": {},
   "outputs": [],
   "source": [
    "# params = hk.data_structures.merge(parameters_SetNet, params_nf)\n",
    "\n",
    "# x = jnp.ones((1, N_particles, 6))\n",
    "# theta = jnp.ones((1, 5))\n",
    "\n",
    "# y, opt_state_resnet = compressor.apply(params, opt_state_SetNet, None, x)\n",
    "# print(y)\n",
    "# log_prob = nf.apply(params, theta, y)\n",
    "# print(log_prob)\n",
    "\n",
    "# print(-jnp.mean(log_prob), opt_state_resnet)"
   ]
  },
  {
   "cell_type": "code",
   "execution_count": 10,
   "id": "88414f34",
   "metadata": {},
   "outputs": [],
   "source": [
    "if args.loss[0] == \"train_compressor_vmim\":\n",
    "    parameters_compressor = hk.data_structures.merge(parameters_SetNet, params_nf)\n",
    "elif args.loss[0] in [\n",
    "    \"train_compressor_mse\",\n",
    "    \"train_compressor_mae\",\n",
    "    \"train_compressor_gnll\",\n",
    "]:\n",
    "    parameters_compressor = parameters_SetNet\n",
    "\n",
    "\n",
    "# define optimizer\n",
    "total_steps = args.total_steps[0]\n",
    "\n",
    "if args.loss == \"train_compressor_gnll\":\n",
    "    start_lr = 0.0001\n",
    "\n",
    "else:\n",
    "    start_lr = 0.001\n",
    "\n",
    "lr_scheduler = optax.piecewise_constant_schedule(\n",
    "    init_value=start_lr,\n",
    "    boundaries_and_scales={\n",
    "        int(total_steps * 0.1): 0.7,\n",
    "        int(total_steps * 0.2): 0.7,\n",
    "        int(total_steps * 0.3): 0.7,\n",
    "        int(total_steps * 0.4): 0.7,\n",
    "        int(total_steps * 0.5): 0.7,\n",
    "        int(total_steps * 0.6): 0.7,\n",
    "        int(total_steps * 0.7): 0.7,\n",
    "        int(total_steps * 0.8): 0.7,\n",
    "        int(total_steps * 0.9): 0.7,\n",
    "    },\n",
    ")\n",
    "\n",
    "optimizer_c = optax.adam(learning_rate=lr_scheduler)\n",
    "opt_state_c = optimizer_c.init(parameters_compressor)\n"
   ]
  },
  {
   "cell_type": "code",
   "execution_count": 11,
   "id": "6d0e6f75",
   "metadata": {},
   "outputs": [],
   "source": [
    "\n",
    "model_compressor = TrainModel(\n",
    "    compressor=compressor,\n",
    "    nf=nf,\n",
    "    optimizer=optimizer_c,\n",
    "    loss_name=args.loss[0],\n",
    ")\n",
    "\n",
    "\n",
    "update = jax.jit(model_compressor.update)"
   ]
  },
  {
   "cell_type": "code",
   "execution_count": 12,
   "id": "fe9793d6",
   "metadata": {},
   "outputs": [
    {
     "name": "stdout",
     "output_type": "stream",
     "text": [
      "mean: [5.2568798e+00 5.0465012e+04 1.0516200e+00 9.9948613e+11 1.0474024e+01], std: [2.7393756e+00 2.8652584e+04 5.5082726e-01 2.8847882e+11 5.4957938e+00]\n",
      "mean: [ 1.0705898e-02  1.4870495e-03 -1.9674072e-02  2.4276490e+00\n",
      " -2.1983453e-03  7.1738102e-02], std: [5.95247373e-02 3.69409740e-01 8.38953137e-01 1.04919624e+02\n",
      " 3.17265660e-01 4.72085744e-01]\n",
      "mean: [ 1.2090281e+01 -3.7612926e-06  1.0096312e+00  7.7777201e-10\n",
      " -5.5790531e+01], std: [1.7549825e+03 1.8628102e-03 9.5802881e+03 9.3244665e-08 1.0320980e+04]\n"
     ]
    }
   ],
   "source": [
    "#load data\n",
    "data_path = '/export/data/vgiusepp/odisseo_data/data/data_NFW/'\n",
    "pattern = re.compile(r\"chunk_(\\d+)\\.npz\")  # capture any number of digits\n",
    "files = sorted(\n",
    "    f for f in Path(data_path).glob(\"chunk_*.npz\")\n",
    "    if (m := pattern.fullmatch(f.name)) and int(m.group(1)) < 70_000\n",
    ")\n",
    "theta_list, x_list, score_list = [], [], []\n",
    "\n",
    "for f in files:\n",
    "    data = np.load(f)\n",
    "    theta_list.append(data[\"theta\"])\n",
    "    x_list.append(data[\"x\"])\n",
    "    score_list.append(data[\"score\"]) \n",
    "\n",
    "\n",
    "\n",
    "\n",
    "#remove nan values from theta\n",
    "dataset_theta = np.array(theta_list)\n",
    "mask_theta = ~np.isnan(dataset_theta).any(axis=(1))\n",
    "\n",
    "dataset_y = np.array(x_list)\n",
    "mask_y = ~np.isnan(dataset_y).any(axis=(1, 2))\n",
    "\n",
    "dataset_score = np.stack(score_list)\n",
    "mask_score = ~np.isnan(dataset_score).any(axis=(1))\n",
    "\n",
    "#combine the mask \n",
    "total_mask = mask_theta & mask_y & mask_score\n",
    "dataset_theta = dataset_theta[total_mask]\n",
    "dataset_y = dataset_y[total_mask]\n",
    "dataset_score = dataset_score[total_mask]\n",
    "\n",
    "\n",
    "\n",
    "#normalization function\n",
    "# @partial(jax.jit, static_argnums=(1,2))\n",
    "def normalize(dataset, is_observable = False, dataset_name = None):\n",
    "    if is_observable:\n",
    "        # the shape in this case is (N, N_particles, 6)\n",
    "        dataset_original_shape = dataset.shape\n",
    "        normalized_dataset = dataset.reshape(-1, dataset.shape[-1])\n",
    "        mean = np.mean(normalized_dataset, axis=0)\n",
    "        std = np.std(normalized_dataset, axis=0)\n",
    "        normalized_dataset = (normalized_dataset - mean)/ (std + 1e-8) \n",
    "        normalized_dataset = normalized_dataset.reshape(dataset_original_shape)\n",
    "    else:\n",
    "        mean = np.mean(dataset, axis=0)\n",
    "        std = np.std(dataset, axis=0)\n",
    "        normalized_dataset = (dataset - mean)/ (std + 1e-8) \n",
    "\n",
    "    print(f\"mean: {mean}, std: {std}\")\n",
    "    \n",
    "    if dataset_name is not None:\n",
    "        jnp.savez(\n",
    "            f\"./params_compressor/normalization_for_compressor_{dataset_name}.npz\",\n",
    "            mean=mean,\n",
    "            std=std,\n",
    "        )\n",
    "\n",
    "    return normalized_dataset\n",
    "\n",
    "training_set_compress_network = 40_000\n",
    "\n",
    "dataset_theta = normalize(dataset_theta[:training_set_compress_network], dataset_name=\"theta\")\n",
    "dataset_y = normalize(dataset_y[:training_set_compress_network], is_observable=True, dataset_name=\"y\")\n",
    "dataset_score = normalize(dataset_score[:training_set_compress_network], dataset_name=\"score\")\n",
    "\n"
   ]
  },
  {
   "cell_type": "code",
   "execution_count": null,
   "id": "709507d2",
   "metadata": {},
   "outputs": [
    {
     "name": "stderr",
     "output_type": "stream",
     "text": [
      "loss -159.936:   0%|          | 0/5 [00:33<?, ?it/s]"
     ]
    }
   ],
   "source": [
    "total_steps = 5\n",
    "pbar = tqdm(range(total_steps))\n",
    "store_loss = []\n",
    "len_dataset = len(dataset_theta)\n",
    "index = np.arange(len_dataset)\n",
    "batch_size = 128\n",
    "for i in pbar:\n",
    "    np.random.shuffle(index)\n",
    "    for start_idx in range(0, len_dataset, batch_size):\n",
    "        end_idx = start_idx + batch_size\n",
    "        batch_indices = index[start_idx:end_idx]\n",
    "        batch = batch_indices\n",
    "        # batch = np.random.randint(0, len(dataset_theta), 5) #needs to be checked\n",
    "        theta = jnp.array(dataset_theta[batch])\n",
    "        x = jnp.array(dataset_y[batch])\n",
    "        score = jnp.array(dataset_score[batch])\n",
    "        # print(f\"theta: {theta.shape}, x: {x.shape}, score: {score.shape}\")\n",
    "        if not jnp.isnan(score).any():\n",
    "            b_loss, parameters_compressor, opt_state_c, opt_state_SetNet = update(\n",
    "                model_params=parameters_compressor,\n",
    "                opt_state=opt_state_c,\n",
    "                theta=theta,\n",
    "                x=x,\n",
    "                state_resnet=opt_state_SetNet,\n",
    "            )\n",
    "            store_loss.append(b_loss)\n",
    "            pbar.set_description(f\"loss {b_loss:.3f}\")\n",
    "\n",
    "            if jnp.isnan(b_loss):\n",
    "                print(\"NaN Loss\")\n",
    "                break"
   ]
  },
  {
   "cell_type": "code",
   "execution_count": null,
   "id": "2bea19ef",
   "metadata": {},
   "outputs": [
    {
     "data": {
      "text/plain": [
       "Text(0, 0.5, 'Loss')"
      ]
     },
     "execution_count": 16,
     "metadata": {},
     "output_type": "execute_result"
    },
    {
     "data": {
      "image/png": "[encoded data removed]",
      "text/plain": [
       "<Figure size 640x480 with 1 Axes>"
      ]
     },
     "metadata": {},
     "output_type": "display_data"
    }
   ],
   "source": [
    "plt.plot(store_loss)\n",
    "plt.xlabel(\"Batch\")\n",
    "plt.ylabel(\"Loss\")\n",
    "# plt.yscale('log')\n",
    "# plt.yscale(\"log\")"
   ]
  },
  {
   "cell_type": "code",
   "execution_count": null,
   "id": "f187e57e",
   "metadata": {},
   "outputs": [],
   "source": [
    "#run the compressor \n",
    "\n",
    "compress_data, _ = compressor.apply(\n",
    "    parameters_compressor, opt_state_SetNet, None, dataset_y[:2]\n",
    ")"
   ]
  },
  {
   "cell_type": "code",
   "execution_count": null,
   "id": "540fd50a",
   "metadata": {},
   "outputs": [
    {
     "data": {
      "text/plain": [
       "(10,)"
      ]
     },
     "execution_count": 18,
     "metadata": {},
     "output_type": "execute_result"
    }
   ],
   "source": [
    "compress_data.shape"
   ]
  },
  {
   "cell_type": "code",
   "execution_count": null,
   "id": "e50cfe99",
   "metadata": {},
   "outputs": [],
   "source": [
    "# save the model \n",
    "import pickle\n",
    "\n",
    "with open(\n",
    "    \"./params_compressor/params_nd_compressor_vmim.pkl\", \"wb\"\n",
    ") as fp:\n",
    "    pickle.dump(parameters_compressor, fp)\n",
    "\n",
    "with open(\"./params_compressor/opt_state_SetNet_vmim.pkl\", \"wb\") as fp:\n",
    "    pickle.dump(opt_state_SetNet, fp)\n",
    "    "
   ]
  },
  {
   "cell_type": "markdown",
   "id": "dac1754c",
   "metadata": {},
   "source": [
    "# Batch not loaded in memeory"
   ]
  },
  {
   "cell_type": "code",
   "execution_count": null,
   "id": "329648da",
   "metadata": {},
   "outputs": [],
   "source": [
    "import os\n",
    "from sklearn.model_selection import train_test_split\n",
    "\n",
    "def load_file(file_path):\n",
    "    # Replace with your actual loading logic (e.g., np.load, h5py, etc.)\n",
    "    return np.load(file_path)\n",
    "\n",
    "def data_generator(file_paths, batch_size, name, shuffle=True, seed=0):\n",
    "    rng = np.random.default_rng(seed)\n",
    "    if shuffle:\n",
    "        rng.shuffle(file_paths)\n",
    "    for i in range(0, len(file_paths), batch_size):\n",
    "        batch_paths = file_paths[i:i+batch_size]\n",
    "        batch = [load_file(p)[name] for p in batch_paths]\n",
    "        yield np.stack(batch)\n",
    "\n",
    "\n",
    "def compute_mean_std(file_paths, batch_size, name):\n",
    "    count = 0\n",
    "    mean = None\n",
    "    M2 = None  # Sum of squares of differences from the current mean\n",
    "\n",
    "    for batch in data_generator(file_paths, batch_size, name, shuffle=False):\n",
    "\n",
    "        if name == \"x\":\n",
    "            print(batch.shape)\n",
    "            batch = batch.reshape(-1, 6)\n",
    "            # x = batch[:, :-1]\n",
    "            x = batch\n",
    "            print(x.shape)\n",
    "        else:\n",
    "            # x = batch[:, :-1]  # assuming last column is target\n",
    "            x = batch\n",
    "\n",
    "        if mean is None:\n",
    "            mean = np.zeros(x.shape[1])\n",
    "            M2 = np.zeros(x.shape[1])\n",
    "    \n",
    "        batch_count = x.shape[0]\n",
    "        batch_mean = np.mean(x, axis=0)\n",
    "        batch_var = np.var(x, axis=0)\n",
    "\n",
    "        delta = batch_mean - mean\n",
    "        total_count = count + batch_count\n",
    "\n",
    "        mean += delta * batch_count / total_count\n",
    "        M2 += batch_var * batch_count + (delta**2) * count * batch_count / total_count\n",
    "\n",
    "        count = total_count\n",
    "    \n",
    "    variance = M2 / count\n",
    "    std = np.sqrt(variance)\n",
    "    return mean, std\n",
    "\n"
   ]
  },
  {
   "cell_type": "code",
   "execution_count": null,
   "id": "9ab8017f",
   "metadata": {},
   "outputs": [
    {
     "name": "stdout",
     "output_type": "stream",
     "text": [
      "(1000, 10000, 6)\n",
      "(10000000, 6)\n"
     ]
    }
   ],
   "source": [
    "#load data\n",
    "data_path = './data/data_NFW/'\n",
    "pattern = re.compile(r\"chunk_(\\d+)\\.npz\")  # capture any number of digits\n",
    "files = sorted(\n",
    "    f for f in Path(data_path).glob(\"chunk_*.npz\")\n",
    "    if (m := pattern.fullmatch(f.name)) and int(m.group(1)) < 1_000\n",
    ")\n",
    "\n",
    "mean, std = compute_mean_std(files, batch_size=1000, name=\"x\")"
   ]
  },
  {
   "cell_type": "code",
   "execution_count": null,
   "id": "23ed2652",
   "metadata": {},
   "outputs": [
    {
     "data": {
      "text/plain": [
       "array([9.94607902e-02, 7.02848422e-01, 1.75719736e+00, 1.77413414e+02,\n",
       "       4.31594656e-01, 7.39438316e-01])"
      ]
     },
     "execution_count": 20,
     "metadata": {},
     "output_type": "execute_result"
    }
   ],
   "source": [
    "std"
   ]
  },
  {
   "cell_type": "markdown",
   "id": "c76ed47f",
   "metadata": {},
   "source": [
    "mean: [ 0.01226011 -0.02244665  0.09708447 -2.625139    0.01436208  0.09414793], std: [9.9460788e-02 7.0284843e-01 1.7571974e+00 1.7741342e+02 4.3159467e-01\n",
    " 7.3943830e-01]"
   ]
  },
  {
   "cell_type": "code",
   "execution_count": null,
   "id": "bbfcfc05",
   "metadata": {},
   "outputs": [],
   "source": [
    "import numpy as np\n",
    "\n",
    "def update_vectorized(count, mean, M2, batch):\n",
    "    \"\"\"\n",
    "    Vectorized Welford update.\n",
    "    - count: scalar (number of samples seen so far)\n",
    "    - mean: array of shape (D,)\n",
    "    - M2: array of shape (D,)\n",
    "    - batch: shape (B, D)\n",
    "    Returns updated (count, mean, M2)\n",
    "    \"\"\"\n",
    "    batch_count = batch.shape[0]\n",
    "    batch_mean = np.mean(batch, axis=0)\n",
    "    batch_M2 = np.sum((batch - batch_mean) ** 2, axis=0)\n",
    "\n",
    "    if count == 0:\n",
    "        # First batch: initialize\n",
    "        return batch_count, batch_mean, batch_M2\n",
    "\n",
    "    delta = batch_mean - mean\n",
    "    new_count = count + batch_count\n",
    "    new_mean = mean + delta * batch_count / new_count\n",
    "    new_M2 = M2 + batch_M2 + (delta**2) * count * batch_count / new_count\n",
    "\n",
    "    return new_count, new_mean, new_M2\n",
    "\n",
    "def finalize_vectorized(count, mean, M2):\n",
    "    if count < 2:\n",
    "        raise ValueError(\"At least two samples required.\")\n",
    "    var = M2 / count\n",
    "    std = np.sqrt(var)\n",
    "    return mean, var, std\n"
   ]
  },
  {
   "cell_type": "code",
   "execution_count": null,
   "id": "df4dc62c",
   "metadata": {},
   "outputs": [],
   "source": [
    "# Assume all batches have shape (batch_size, num_features)\n",
    "def compute_mean_std(file_paths, batch_size, name):\n",
    "    initial_count = 0\n",
    "    initial_mean = np.zeros(6)\n",
    "    initial_M2 = np.zeros(6)\n",
    "\n",
    "    aggregate = (initial_count, initial_mean, initial_M2)\n",
    "\n",
    "    for batch in data_generator(file_paths, batch_size, name, shuffle=False):\n",
    "        if name == \"x\":\n",
    "            batch = batch.reshape(-1, 6)\n",
    "        aggregate = update_vectorized(aggregate, batch)\n",
    "\n",
    "    mean, var, sample_var = finalize_vectorized(aggregate)\n",
    "    std = np.sqrt(var)\n",
    "\n",
    "    return mean, std"
   ]
  },
  {
   "cell_type": "code",
   "execution_count": null,
   "id": "6c3329a1",
   "metadata": {},
   "outputs": [
    {
     "ename": "TypeError",
     "evalue": "update_vectorized() missing 2 required positional arguments: 'M2' and 'batch'",
     "output_type": "error",
     "traceback": [
      "\u001b[31m---------------------------------------------------------------------------\u001b[39m",
      "\u001b[31mTypeError\u001b[39m                                 Traceback (most recent call last)",
      "\u001b[36mCell\u001b[39m\u001b[36m \u001b[39m\u001b[32mIn[23]\u001b[39m\u001b[32m, line 1\u001b[39m\n\u001b[32m----> \u001b[39m\u001b[32m1\u001b[39m \u001b[43mcompute_mean_std\u001b[49m\u001b[43m(\u001b[49m\u001b[43mfiles\u001b[49m\u001b[43m,\u001b[49m\u001b[43m \u001b[49m\u001b[43mbatch_size\u001b[49m\u001b[43m=\u001b[49m\u001b[32;43m1000\u001b[39;49m\u001b[43m,\u001b[49m\u001b[43m \u001b[49m\u001b[43mname\u001b[49m\u001b[43m=\u001b[49m\u001b[33;43m\"\u001b[39;49m\u001b[33;43mx\u001b[39;49m\u001b[33;43m\"\u001b[39;49m\u001b[43m)\u001b[49m\n",
      "\u001b[36mCell\u001b[39m\u001b[36m \u001b[39m\u001b[32mIn[22]\u001b[39m\u001b[32m, line 12\u001b[39m, in \u001b[36mcompute_mean_std\u001b[39m\u001b[34m(file_paths, batch_size, name)\u001b[39m\n\u001b[32m     10\u001b[39m     \u001b[38;5;28;01mif\u001b[39;00m name == \u001b[33m\"\u001b[39m\u001b[33mx\u001b[39m\u001b[33m\"\u001b[39m:\n\u001b[32m     11\u001b[39m         batch = batch.reshape(-\u001b[32m1\u001b[39m, \u001b[32m6\u001b[39m)\n\u001b[32m---> \u001b[39m\u001b[32m12\u001b[39m     aggregate = \u001b[43mupdate_vectorized\u001b[49m\u001b[43m(\u001b[49m\u001b[43maggregate\u001b[49m\u001b[43m,\u001b[49m\u001b[43m \u001b[49m\u001b[43mbatch\u001b[49m\u001b[43m)\u001b[49m\n\u001b[32m     14\u001b[39m mean, var, sample_var = finalize_vectorized(aggregate)\n\u001b[32m     15\u001b[39m std = np.sqrt(var)\n",
      "\u001b[31mTypeError\u001b[39m: update_vectorized() missing 2 required positional arguments: 'M2' and 'batch'"
     ]
    }
   ],
   "source": [
    "compute_mean_std(files, batch_size=1000, name=\"x\")"
   ]
  },
  {
   "cell_type": "code",
   "execution_count": null,
   "id": "ba65fe89",
   "metadata": {},
   "outputs": [
    {
     "name": "stdout",
     "output_type": "stream",
     "text": [
      "Mean: [ 0.01226027 -0.02244593  0.0970807  -2.62586575  0.0143615   0.09415632]\n",
      "Std: [1.00233859e-01 7.06850254e-01 1.76492770e+00 1.78132901e+02\n",
      " 4.36402014e-01 7.47493294e-01]\n"
     ]
    }
   ],
   "source": [
    "import numpy as np\n",
    "\n",
    "# ---------- Welford’s vectorized update ----------\n",
    "def update_vectorized(count, mean, M2, batch):\n",
    "    batch_count = batch.shape[0]\n",
    "    batch_mean = np.mean(batch, axis=0)\n",
    "    batch_M2 = np.sum((batch - batch_mean) ** 2, axis=0)\n",
    "\n",
    "    if count == 0:\n",
    "        return batch_count, batch_mean, batch_M2\n",
    "\n",
    "    delta = batch_mean - mean\n",
    "    new_count = count + batch_count\n",
    "    new_mean = mean + delta * batch_count / new_count\n",
    "    new_M2 = M2 + batch_M2 + (delta**2) * count * batch_count / new_count\n",
    "\n",
    "    return new_count, new_mean, new_M2\n",
    "\n",
    "def finalize_vectorized(count, mean, M2):\n",
    "    if count < 2:\n",
    "        raise ValueError(\"At least two samples required.\")\n",
    "    var = M2 / count\n",
    "    std = np.sqrt(var)\n",
    "    return mean, var, std\n",
    "\n",
    "\n",
    "count = 0\n",
    "mean = None\n",
    "M2 = None\n",
    "\n",
    "for batch in data_generator(files, batch_size=64, name=\"x\"):\n",
    "    batch = batch.reshape(-1, 6)\n",
    "    if count == 0:\n",
    "        count, mean, M2 = update_vectorized(0, None, None, batch)\n",
    "    else:\n",
    "        count, mean, M2 = update_vectorized(count, mean, M2, batch)\n",
    "\n",
    "final_mean, final_var, final_std = finalize_vectorized(count, mean, M2)\n",
    "\n",
    "print(\"Mean:\", final_mean)\n",
    "print(\"Std:\", final_std)\n",
    "\n"
   ]
  },
  {
   "cell_type": "code",
   "execution_count": null,
   "id": "05785925",
   "metadata": {},
   "outputs": [
    {
     "data": {
      "text/plain": [
       "(6,)"
      ]
     },
     "execution_count": 31,
     "metadata": {},
     "output_type": "execute_result"
    }
   ],
   "source": [
    "final_mean.shape"
   ]
  },
  {
   "cell_type": "code",
   "execution_count": null,
   "id": "5f63c907",
   "metadata": {},
   "outputs": [],
   "source": []
  }
 ],
 "metadata": {
  "kernelspec": {
   "display_name": "sbi_ds",
   "language": "python",
   "name": "python3"
  },
  "language_info": {
   "codemirror_mode": {
    "name": "ipython",
    "version": 3
   },
   "file_extension": ".py",
   "mimetype": "text/x-python",
   "name": "python",
   "nbconvert_exporter": "python",
   "pygments_lexer": "ipython3",
   "version": "3.12.10"
  }
 },
 "nbformat": 4,
 "nbformat_minor": 5
}
