{
 "cells": [
  {
   "cell_type": "code",
   "execution_count": 1,
   "id": "1ce78dc4",
   "metadata": {},
   "outputs": [
    {
     "name": "stderr",
     "output_type": "stream",
     "text": [
      "/export/home/vgiusepp/miniconda3/envs/sbi_ds/lib/python3.12/site-packages/tqdm/auto.py:21: TqdmWarning: IProgress not found. Please update jupyter and ipywidgets. See https://ipywidgets.readthedocs.io/en/stable/user_install.html\n",
      "  from .autonotebook import tqdm as notebook_tqdm\n",
      "2025-05-01 20:09:02.967651: I tensorflow/core/util/port.cc:153] oneDNN custom operations are on. You may see slightly different numerical results due to floating-point round-off errors from different computation orders. To turn them off, set the environment variable `TF_ENABLE_ONEDNN_OPTS=0`.\n",
      "2025-05-01 20:09:02.983992: E external/local_xla/xla/stream_executor/cuda/cuda_fft.cc:467] Unable to register cuFFT factory: Attempting to register factory for plugin cuFFT when one has already been registered\n",
      "WARNING: All log messages before absl::InitializeLog() is called are written to STDERR\n",
      "E0000 00:00:1746122943.002048  966832 cuda_dnn.cc:8579] Unable to register cuDNN factory: Attempting to register factory for plugin cuDNN when one has already been registered\n",
      "E0000 00:00:1746122943.007599  966832 cuda_blas.cc:1407] Unable to register cuBLAS factory: Attempting to register factory for plugin cuBLAS when one has already been registered\n",
      "W0000 00:00:1746122943.021497  966832 computation_placer.cc:177] computation placer already registered. Please check linkage and avoid linking the same target more than once.\n",
      "W0000 00:00:1746122943.021520  966832 computation_placer.cc:177] computation placer already registered. Please check linkage and avoid linking the same target more than once.\n",
      "W0000 00:00:1746122943.021522  966832 computation_placer.cc:177] computation placer already registered. Please check linkage and avoid linking the same target more than once.\n",
      "W0000 00:00:1746122943.021523  966832 computation_placer.cc:177] computation placer already registered. Please check linkage and avoid linking the same target more than once.\n",
      "2025-05-01 20:09:03.026263: I tensorflow/core/platform/cpu_feature_guard.cc:210] This TensorFlow binary is optimized to use available CPU instructions in performance-critical operations.\n",
      "To enable the following instructions: AVX2 AVX512F AVX512_VNNI FMA, in other operations, rebuild TensorFlow with the appropriate compiler flags.\n"
     ]
    }
   ],
   "source": [
    "import os\n",
    "os.environ[\"CUDA_VISIBLE_DEVICES\"] = \"4\"\n",
    "\n",
    "import numpy as np\n",
    "import matplotlib.pyplot as plt\n",
    "import re\n",
    "from tqdm import tqdm\n",
    "from pathlib import Path\n",
    "\n",
    "import torch\n",
    "from torch import nn\n",
    "import torch.nn.functional as F\n",
    "\n",
    "\n",
    "\n",
    "import sbi \n",
    "from sbi import analysis\n",
    "from sbi import utils as utils\n",
    "from sbi.inference import NLE, NPE\n",
    "from sbi.neural_nets import posterior_nn, likelihood_nn \n",
    "\n"
   ]
  },
  {
   "cell_type": "code",
   "execution_count": 3,
   "id": "30e63818",
   "metadata": {},
   "outputs": [],
   "source": [
    "#normalization function\n",
    "        \n",
    "def normalize(dataset, is_observable = False, dataset_name=None):\n",
    "    if dataset_name is not None:\n",
    "        mean = np.load(f'./params_compressor/normalization_for_compressor_{dataset_name}.npz')['mean']\n",
    "        std = np.load(f'./params_compressor/normalization_for_compressor_{dataset_name}.npz')['std']\n",
    "    if is_observable:\n",
    "        # the shape in this case is (N, N_particles, 6)\n",
    "        dataset_original_shape = dataset.shape\n",
    "        normalized_dataset = dataset.reshape(-1, dataset.shape[-1])\n",
    "        normalized_dataset = (normalized_dataset - mean)/ (std + 1e-8) \n",
    "        normalized_dataset = normalized_dataset.reshape(dataset_original_shape)\n",
    "    else:\n",
    "        normalized_dataset = (dataset - mean)/ (std + 1e-8) \n",
    "\n",
    "    return normalized_dataset"
   ]
  },
  {
   "cell_type": "code",
   "execution_count": 4,
   "id": "966af27f",
   "metadata": {},
   "outputs": [],
   "source": [
    "data_path = './data/data_NFW/'\n",
    "pattern = re.compile(r\"chunk_(\\d+)\\.npz\")  # capture any number of digits\n",
    "files = sorted(\n",
    "    f for f in Path(data_path).glob(\"chunk_*.npz\")\n",
    "    if (m := pattern.fullmatch(f.name)) and int(m.group(1)) < 9500 and int(m.group(1)) > 0\n",
    ")\n",
    "theta_list, x_list, score_list = [], [], []\n",
    "\n",
    "for f in files:\n",
    "    data = np.load(f)\n",
    "    theta_list.append(data[\"theta\"])\n",
    "    x_list.append(data[\"x\"])\n",
    "    score_list.append(data[\"score\"]) \n",
    "    \n",
    "dataset_theta = np.array(theta_list,).reshape(-1, 5)\n",
    "dataset_y = np.array(x_list, ).reshape(-1, 10_000, 6)\n",
    "\n",
    "\n",
    "#normalize the dataset\n",
    "# dataset_theta = torch.tensor(normalize(dataset_theta, dataset_name='theta'))\n",
    "# dataset_y = torch.tensor(normalize(dataset_y, is_observable=True, dataset_name='y'))\n",
    "\n",
    "#rename\n",
    "x = torch.tensor(dataset_y)\n",
    "theta = torch.tensor(dataset_theta)"
   ]
  },
  {
   "cell_type": "code",
   "execution_count": 5,
   "id": "2bf13321",
   "metadata": {},
   "outputs": [],
   "source": [
    "class DeepSetsEncoder(nn.Module):\n",
    "    def __init__(self, input_dim=6, hidden_dim=128, output_dim=10):\n",
    "        super().__init__()\n",
    "        self.phi = nn.Sequential(\n",
    "            nn.Linear(input_dim, hidden_dim),\n",
    "            nn.ReLU(),\n",
    "            nn.Linear(hidden_dim, hidden_dim),\n",
    "            nn.ReLU(),\n",
    "            nn.Linear(hidden_dim, output_dim),\n",
    "        )\n",
    "\n",
    "    def forward(self, x):\n",
    "        \"\"\"\n",
    "        Args:\n",
    "            x: Tensor of shape [N, D] (unbatched) or [B, N, D] (batched)\n",
    "        Returns:\n",
    "            summary vector of shape [output_dim] or [B, output_dim]\n",
    "        \"\"\"\n",
    "        if x.dim() == 2:\n",
    "            # Unbatched input: [N_particles, 6]\n",
    "            x_phi = self.phi(x)                  # [N, output_dim]\n",
    "            summary = x_phi.mean(dim=0)          # [output_dim]\n",
    "        elif x.dim() == 3:\n",
    "            # Batched input: [B, N_particles, 6]\n",
    "            B, N, D = x.shape\n",
    "            x_phi = self.phi(x.view(-1, D))      # [B * N, output_dim]\n",
    "            x_phi = x_phi.view(B, N, -1)         # [B, N, output_dim]\n",
    "            summary = x_phi.mean(dim=1)          # [B, output_dim]\n",
    "        else:\n",
    "            raise ValueError(f\"Expected shape (N, D) or (B, N, D), got {x.shape}\")\n",
    "        \n",
    "        return summary"
   ]
  },
  {
   "cell_type": "code",
   "execution_count": 20,
   "id": "baef7696",
   "metadata": {},
   "outputs": [
    {
     "name": "stderr",
     "output_type": "stream",
     "text": [
      "/export/home/vgiusepp/miniconda3/envs/sbi_ds/lib/python3.12/site-packages/sbi/neural_nets/factory.py:334: UserWarning: The passed embedding net will be moved to cpu for\n",
      "                        constructing the net building function.\n",
      "  check_net_device(embedding_net, \"cpu\", embedding_net_warn_msg),\n",
      "/export/home/vgiusepp/miniconda3/envs/sbi_ds/lib/python3.12/site-packages/sbi/inference/trainers/npe/npe_base.py:158: UserWarning: Data x has device 'cuda:0'. Moving x to the data_device 'cuda'. Training will proceed on device 'cuda'.\n",
      "  theta, x = validate_theta_and_x(\n",
      "/export/home/vgiusepp/miniconda3/envs/sbi_ds/lib/python3.12/site-packages/sbi/inference/trainers/npe/npe_base.py:158: UserWarning: Parameters theta has device 'cuda:0'. Moving theta to the data_device 'cuda'. Training will proceed on device 'cuda'.\n",
      "  theta, x = validate_theta_and_x(\n"
     ]
    },
    {
     "name": "stdout",
     "output_type": "stream",
     "text": [
      " Neural network successfully converged after 21 epochs."
     ]
    }
   ],
   "source": [
    "prior_min = [0.5, 1e3, 0.1, 5e11, 1.0]\n",
    "prior_max = [10.0, 1e5, 1.0, 1.5e12, 20.0]\n",
    "prior = utils.torchutils.BoxUniform(\n",
    "    low=torch.as_tensor(prior_min, device='cuda'), high=torch.as_tensor(prior_max, device='cuda')\n",
    ")\n",
    "\n",
    "\n",
    "# instantiate the custom embedding_net\n",
    "embedding_net_custom = DeepSetsEncoder().to(device='cuda')\n",
    "\n",
    "# Instantiate the conditional neural density estimator\n",
    "# neural_posterior = likelihood_nn(model=\"maf\", embedding_net=embedding_net_custom)\n",
    "neural_posterior = posterior_nn(model=\"maf\", embedding_net=embedding_net_custom)\n",
    "inference = NPE(prior=prior, density_estimator=neural_posterior, device='cuda')\n",
    "\n",
    "density_estimator = inference.append_simulations(theta.to(device='cuda'), x.to(device='cuda')).train()\n",
    "posterior = inference.build_posterior(density_estimator)\n"
   ]
  },
  {
   "cell_type": "code",
   "execution_count": 24,
   "id": "0a165ab5",
   "metadata": {},
   "outputs": [
    {
     "name": "stderr",
     "output_type": "stream",
     "text": [
      "Drawing 5000 posterior samples: 100%|██████████| 5000/5000 [00:00<00:00, 384826.78it/s]\n"
     ]
    }
   ],
   "source": [
    "data_path = './data/data_NFW/'\n",
    "pattern = re.compile(r\"chunk_(\\d+)\\.npz\")  # capture any number of digits\n",
    "files = sorted(\n",
    "    f for f in Path(data_path).glob(\"chunk_*.npz\")\n",
    "    if (m := pattern.fullmatch(f.name)) and int(m.group(1)) > 9500 and int(m.group(1)) < 9503\n",
    ")\n",
    "theta_list, x_list, score_list = [], [], []\n",
    "\n",
    "for f in files:\n",
    "    data = np.load(f)\n",
    "    theta_list.append(data[\"theta\"])\n",
    "    x_list.append(data[\"x\"])\n",
    "    score_list.append(data[\"score\"]) \n",
    "    \n",
    "dataset_theta = np.array(theta_list,).reshape(-1, 5)\n",
    "dataset_y = np.array(x_list, ).reshape(-1, 10_000, 6)\n",
    "\n",
    "\n",
    "#normalize the dataset\n",
    "# dataset_theta = torch.tensor(normalize(dataset_theta, dataset_name='theta'))\n",
    "# dataset_y = torch.tensor(normalize(dataset_y, is_observable=True, dataset_name='y'))\n",
    "\n",
    "#rename\n",
    "x = torch.tensor(dataset_y)\n",
    "theta = torch.tensor(dataset_theta)\n",
    "\n",
    "x_observed = x[0].to(device='cuda')\n",
    "samples = posterior.sample((5000,), x=x_observed.to(device='cuda'), show_progress_bars=True)\n",
    "\n",
    "\n",
    "# create the figure\n",
    "# fig, ax = analysis.pairplot(\n",
    "#     samples.cpu().numpy(),\n",
    "#     points=true_parameter,\n",
    "#     labels=[\"t_end\", \"Mtot_plummer\", \"a_plummer\", \"M_NFW\", \"r_s\"],\n",
    "#     # limits=np.stack([prior_min, prior_max], axis=1),\n",
    "#     fig_kwargs=dict(\n",
    "#         points_colors=\"r\",\n",
    "#         points_offdiag={\"markersize\": 6},\n",
    "#     ),\n",
    "#     figsize=(5, 5),\n",
    "# )\n"
   ]
  },
  {
   "cell_type": "code",
   "execution_count": 25,
   "id": "e207d8e9",
   "metadata": {},
   "outputs": [
    {
     "data": {
      "text/plain": [
       "tensor([[1.4908e+00, 9.1778e+03, 1.2025e-01, 6.5511e+11, 9.0076e+00],\n",
       "        [1.4908e+00, 9.1778e+03, 1.2025e-01, 6.5511e+11, 9.0076e+00],\n",
       "        [1.4908e+00, 9.1778e+03, 1.2025e-01, 6.5511e+11, 9.0076e+00],\n",
       "        ...,\n",
       "        [1.4908e+00, 9.1778e+03, 1.2025e-01, 6.5511e+11, 9.0076e+00],\n",
       "        [1.4908e+00, 9.1778e+03, 1.2025e-01, 6.5511e+11, 9.0076e+00],\n",
       "        [1.4908e+00, 9.1778e+03, 1.2025e-01, 6.5511e+11, 9.0076e+00]],\n",
       "       device='cuda:0')"
      ]
     },
     "execution_count": 25,
     "metadata": {},
     "output_type": "execute_result"
    }
   ],
   "source": [
    "samples"
   ]
  },
  {
   "cell_type": "code",
   "execution_count": 26,
   "id": "18fcaf66",
   "metadata": {},
   "outputs": [
    {
     "data": {
      "text/plain": [
       "tensor([1.4908e+00, 9.1778e+03, 1.2025e-01, 6.5511e+11, 9.0076e+00])"
      ]
     },
     "execution_count": 26,
     "metadata": {},
     "output_type": "execute_result"
    }
   ],
   "source": [
    "true_parameter"
   ]
  },
  {
   "cell_type": "code",
   "execution_count": 29,
   "id": "ce36b84d",
   "metadata": {},
   "outputs": [
    {
     "data": {
      "text/plain": [
       "array([[-2.3070920e-02, -2.3117030e-01,  1.6164832e+00,  4.0301746e+01,\n",
       "        -1.5267348e-01,  4.9653131e-01],\n",
       "       [ 1.6070962e-02, -1.0754041e-01,  1.5558944e+00,  3.8130051e+01,\n",
       "        -7.5265393e-02,  4.0255699e-01],\n",
       "       [-3.9953567e-02, -2.2966118e-01,  1.5971465e+00,  3.7623219e+01,\n",
       "        -3.0063409e-03,  4.6757472e-01],\n",
       "       ...,\n",
       "       [-1.3626890e-01, -2.2150862e-01,  1.5936778e+00,  3.3417095e+01,\n",
       "         6.7394689e-02,  2.0579502e-01],\n",
       "       [-1.3131498e-01, -2.4196792e-01,  1.5895219e+00,  3.8400787e+01,\n",
       "         5.7574641e-02,  4.4651896e-01],\n",
       "       [-1.0581795e-02, -1.9501723e-01,  1.8260672e+00,  3.8036945e+01,\n",
       "         1.8222505e-02,  4.2939904e-01]], dtype=float32)"
      ]
     },
     "execution_count": 29,
     "metadata": {},
     "output_type": "execute_result"
    }
   ],
   "source": [
    "dataset_y[0]"
   ]
  },
  {
   "cell_type": "code",
   "execution_count": 33,
   "id": "65f7dab7",
   "metadata": {},
   "outputs": [
    {
     "data": {
      "text/plain": [
       "array([[-2.3070920e-02, -2.3117030e-01,  1.6164832e+00,  4.0301746e+01,\n",
       "        -1.5267348e-01,  4.9653131e-01],\n",
       "       [ 1.6070962e-02, -1.0754041e-01,  1.5558944e+00,  3.8130051e+01,\n",
       "        -7.5265393e-02,  4.0255699e-01],\n",
       "       [-3.9953567e-02, -2.2966118e-01,  1.5971465e+00,  3.7623219e+01,\n",
       "        -3.0063409e-03,  4.6757472e-01],\n",
       "       ...,\n",
       "       [-1.3626890e-01, -2.2150862e-01,  1.5936778e+00,  3.3417095e+01,\n",
       "         6.7394689e-02,  2.0579502e-01],\n",
       "       [-1.3131498e-01, -2.4196792e-01,  1.5895219e+00,  3.8400787e+01,\n",
       "         5.7574641e-02,  4.4651896e-01],\n",
       "       [-1.0581795e-02, -1.9501723e-01,  1.8260672e+00,  3.8036945e+01,\n",
       "         1.8222505e-02,  4.2939904e-01]], dtype=float32)"
      ]
     },
     "execution_count": 33,
     "metadata": {},
     "output_type": "execute_result"
    }
   ],
   "source": [
    "dataset_y[1]"
   ]
  },
  {
   "cell_type": "code",
   "execution_count": null,
   "id": "05e81fc6",
   "metadata": {},
   "outputs": [],
   "source": []
  }
 ],
 "metadata": {
  "kernelspec": {
   "display_name": "sbi_ds",
   "language": "python",
   "name": "python3"
  },
  "language_info": {
   "codemirror_mode": {
    "name": "ipython",
    "version": 3
   },
   "file_extension": ".py",
   "mimetype": "text/x-python",
   "name": "python",
   "nbconvert_exporter": "python",
   "pygments_lexer": "ipython3",
   "version": "3.12.10"
  }
 },
 "nbformat": 4,
 "nbformat_minor": 5
}
