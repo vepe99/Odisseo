{
 "cells": [
  {
   "cell_type": "code",
   "execution_count": 3,
   "id": "bcdc2fbb",
   "metadata": {},
   "outputs": [],
   "source": [
    "import numpy as np\n",
    "import swyft.lightning as sl\n",
    "import pylab as plt\n",
    "import torch\n",
    "DEVICE = 'gpu' if torch.cuda.is_available() else 'cpu'"
   ]
  },
  {
   "cell_type": "code",
   "execution_count": 2,
   "id": "179b9495",
   "metadata": {},
   "outputs": [],
   "source": [
    "torch.manual_seed(0)\n",
    "np.random.seed(0)"
   ]
  },
  {
   "cell_type": "code",
   "execution_count": null,
   "id": "97aa6608",
   "metadata": {},
   "outputs": [],
   "source": [
    "class Simulator(swyft.Simulator):\n",
    "    def __init__(self, \n",
    "                 nbody_sim,\n",
    "                 priors,\n",
    "                 binning,\n",
    "                 true_values,\n",
    "                 ):\n",
    "        super().__init__()\n",
    "        self.nbody_sim = nbody_sim\n",
    "        self.priors = priors\n",
    "        self.binning = binning\n",
    "        self.true_values = true_values\n",
    "        self.transform_samples = sl.to_numpy32\n",
    "\n",
    "        def build(self, graph):\n",
    "            \"\"\"\n",
    "            Define the computational graph, which allows us to sample specific targets efficiently\n",
    "            \"\"\"\n",
    "            z = []\n",
    "\n",
    "\n"
   ]
  }
 ],
 "metadata": {
  "kernelspec": {
   "display_name": "test_sstrax",
   "language": "python",
   "name": "python3"
  },
  "language_info": {
   "codemirror_mode": {
    "name": "ipython",
    "version": 3
   },
   "file_extension": ".py",
   "mimetype": "text/x-python",
   "name": "python",
   "nbconvert_exporter": "python",
   "pygments_lexer": "ipython3",
   "version": "3.12.2"
  }
 },
 "nbformat": 4,
 "nbformat_minor": 5
}
