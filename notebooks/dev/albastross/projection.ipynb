{
 "cells": [
  {
   "cell_type": "code",
   "execution_count": 1,
   "id": "65b0a9a5",
   "metadata": {},
   "outputs": [],
   "source": [
    "import os\n",
    "os.environ[\"CUDA_VISIBLE_DEVICES\"] = \"7, 8\"  # Use only the first GPU\n",
    "\n",
    "import jax \n",
    "import jax.numpy as jnp\n",
    "from jax import jit, random\n",
    "\n",
    "import matplotlib.pyplot as plt\n",
    "\n",
    "\n",
    "import numpy as np\n",
    "from astropy import units as u\n",
    "from astropy import constants as c\n",
    "\n",
    "import odisseo\n",
    "from odisseo import construct_initial_state\n",
    "from odisseo.integrators import leapfrog\n",
    "from odisseo.dynamics import direct_acc, DIRECT_ACC, DIRECT_ACC_LAXMAP, DIRECT_ACC_FOR_LOOP, DIRECT_ACC_MATRIX\n",
    "from odisseo.option_classes import SimulationConfig, SimulationParams, MNParams, NFWParams, PlummerParams, MN_POTENTIAL, NFW_POTENTIAL\n",
    "from odisseo.initial_condition import Plummer_sphere, ic_two_body, sample_position_on_sphere, inclined_circular_velocity, sample_position_on_circle, inclined_position\n",
    "from odisseo.utils import center_of_mass\n",
    "from odisseo.time_integration import time_integration\n",
    "from odisseo.units import CodeUnits\n",
    "from odisseo.visualization import create_3d_gif, create_projection_gif, energy_angular_momentum_plot\n",
    "from odisseo.potentials import MyamotoNagai, NFW\n",
    "\n",
    "from odisseo.utils import halo_to_gd1_all\n",
    "\n",
    "plt.rcParams.update({\n",
    "    'font.size': 20,\n",
    "    'axes.labelsize': 20,\n",
    "    'xtick.labelsize': 13,\n",
    "    'ytick.labelsize': 13,\n",
    "    'legend.fontsize': 15,\n",
    "})\n",
    "\n"
   ]
  },
  {
   "cell_type": "code",
   "execution_count": 2,
   "id": "ebecd930",
   "metadata": {},
   "outputs": [],
   "source": [
    "from jax.scipy.integrate import trapezoid\n",
    "from galpy.potential import MiyamotoNagaiPotential\n",
    "\n",
    "\n",
    "def mass_enclosed_MN(R, z):\n",
    "    \"\"\"\n",
    "    Compute the mass of the Myamoto-Nagai potential at a given radius R.\n",
    "\n",
    "    \"\"\"\n",
    "    a = params.MN_params.a * code_units.code_length.to(u.kpc)\n",
    "    b = params.MN_params.b * code_units.code_length.to(u.kpc)\n",
    "    M = params.MN_params.M * code_units.code_mass.to( u.Msun)\n",
    "\n",
    "    # Compute the mass using the Myamoto-Nagai formula\n",
    "    mp = MiyamotoNagaiPotential(amp = M, a=a, b=b,) \n",
    "\n",
    "    return mp.mass(R, z) * u.Msun.to(code_units.code_mass)\n",
    "    \n",
    "@jit\n",
    "def mass_enclosed_NFW(R):\n",
    "    \"\"\"\n",
    "    Compute the mass of the NFW potential at a given radius R.\n",
    "\n",
    "    ref: wikipedia\n",
    "    \"\"\"\n",
    "    c = params.NFW_params.c\n",
    "    Mvir = params.NFW_params.Mvir\n",
    "    r_s = params.NFW_params.r_s\n",
    "    rho_0 = (Mvir / (4*jnp.pi * r_s**3)) * (jnp.log(1+c) - c/(1+c))**-1\n",
    "\n",
    "    return 4*jnp.pi*rho_0*r_s**3 * (jnp.log(1 + R/r_s) - R/(r_s + R))\n",
    "\n",
    "code_length = 10.0 * u.kpc\n",
    "code_mass = 1e8 * u.Msun\n",
    "G = 1 \n",
    "code_units = CodeUnits(code_length, code_mass, G=G)\n",
    "\n",
    "\n",
    "# Define the \n",
    "config = SimulationConfig(N_particles = 10_000, \n",
    "                          return_snapshots = True, \n",
    "                          num_snapshots = 50, \n",
    "                          num_timesteps = 1000, \n",
    "                          external_accelerations=(NFW_POTENTIAL, MN_POTENTIAL,  ), \n",
    "                          acceleration_scheme = DIRECT_ACC_MATRIX,\n",
    "                          softening = (0.1 * u.kpc).to(code_units.code_length).value) #default values\n",
    "\n",
    "params = SimulationParams(t_end = (1000 * u.Myr).to(code_units.code_time).value,  \n",
    "                          Plummer_params= PlummerParams(Mtot=(1e8 * u.Msun).to(code_units.code_mass).value,\n",
    "                                                        a=(1 * u.kpc).to(code_units.code_length).value),\n",
    "                           MN_params= MNParams(M=(6.5e10 * u.Msun).to(code_units.code_mass).value,\n",
    "                                              a = (3.0 * u.kpc).to(code_units.code_length).value,\n",
    "                                              b = (0.3 * u.kpc).to(code_units.code_length).value),\n",
    "                          NFW_params= NFWParams(Mvir=(1e12 * u.Msun).to(code_units.code_mass).value,\n",
    "                                               r_s= (15.0 * u.kpc).to(code_units.code_length).value,\n",
    "                                               c = 8.0),                           \n",
    "                          G=G, ) \n",
    "\n",
    "key = random.PRNGKey(1)\n",
    "\n",
    "#set up the particles in the initial state\n",
    "positions, velocities, mass = Plummer_sphere(key=key, params=params, config=config)\n",
    "\n",
    "#put the Plummer sphere in a ciruclar orbit around the NFW halo\n",
    "ra = 200*u.kpc.to(code_units.code_length)\n",
    "e = 0.9\n",
    "rp = (1-e)/(1+e) * ra\n",
    "\n",
    "pos_com = sample_position_on_sphere(key=key,\n",
    "                                r_p = rp,\n",
    "                                num_samples=1,)\n",
    "z = pos_com[0, 2]\n",
    "inclination = jnp.pi/2 - jnp.acos(z/rp)\n",
    "\n",
    "mass1 = mass_enclosed_MN(rp, z) + mass_enclosed_NFW(rp)\n",
    "mass2 = params.Plummer_params.Mtot \n",
    "_, bulk_velocity, _ = ic_two_body(mass1=mass1,\n",
    "                                mass2=mass2,\n",
    "                                rp=rp,\n",
    "                                e=e,\n",
    "                                params=params)\n",
    "bulk_velocity_modulus = bulk_velocity[1, 1].reshape((1))\n",
    "vel_com = inclined_circular_velocity(pos_com, bulk_velocity_modulus, inclination)\n",
    "\n",
    "# Add the center of mass position and velocity to the Plummer sphere particles\n",
    "positions = positions + pos_com\n",
    "velocities = velocities + vel_com\n",
    "\n",
    "#initialize the initial state\n",
    "initial_state = construct_initial_state(positions, velocities)\n",
    "\n",
    "    "
   ]
  },
  {
   "cell_type": "code",
   "execution_count": 3,
   "id": "39d6e58a",
   "metadata": {},
   "outputs": [],
   "source": [
    "snapshots = jax.block_until_ready(time_integration(initial_state, mass, config, params))\n"
   ]
  },
  {
   "cell_type": "code",
   "execution_count": 4,
   "id": "57111f82",
   "metadata": {},
   "outputs": [],
   "source": [
    "final_state = snapshots.states[-1].copy()\n",
    "final_positions, final_velocities = final_state[:, 0], final_state[:, 1]\n",
    "\n",
    "gd1_coordinate = halo_to_gd1_all(final_positions[0], final_velocities[0], code_units)"
   ]
  },
  {
   "cell_type": "code",
   "execution_count": 5,
   "id": "0e951a04",
   "metadata": {},
   "outputs": [
    {
     "data": {
      "text/plain": [
       "Array([ 0.8608485 , -1.6858103 , -0.21196917, -5.1161366 , 19.497684  ,\n",
       "       25.327383  ], dtype=float32)"
      ]
     },
     "execution_count": 5,
     "metadata": {},
     "output_type": "execute_result"
    }
   ],
   "source": [
    "gd1_coordinate"
   ]
  },
  {
   "cell_type": "code",
   "execution_count": 6,
   "id": "0839ae2c",
   "metadata": {},
   "outputs": [],
   "source": [
    "from odisseo.utils import gd1_projection_vmap\n",
    "# vmap_gd1_coordinate = jax.vmap(halo_to_gd1_all, in_axes=(0, 0, None))\n",
    "gd1_coordinate_vmapped = gd1_projection_vmap(final_positions, final_velocities, code_units)"
   ]
  },
  {
   "cell_type": "code",
   "execution_count": null,
   "id": "759f26b5",
   "metadata": {},
   "outputs": [
    {
     "data": {
      "text/plain": [
       "(10000, 6)"
      ]
     },
     "execution_count": 7,
     "metadata": {},
     "output_type": "execute_result"
    }
   ],
   "source": [
    "gd1_coordinate_vmapped"
   ]
  },
  {
   "cell_type": "code",
   "execution_count": null,
   "id": "e3c0ed01",
   "metadata": {},
   "outputs": [],
   "source": []
  }
 ],
 "metadata": {
  "kernelspec": {
   "display_name": "test_sstrax",
   "language": "python",
   "name": "python3"
  },
  "language_info": {
   "codemirror_mode": {
    "name": "ipython",
    "version": 3
   },
   "file_extension": ".py",
   "mimetype": "text/x-python",
   "name": "python",
   "nbconvert_exporter": "python",
   "pygments_lexer": "ipython3",
   "version": "3.12.2"
  }
 },
 "nbformat": 4,
 "nbformat_minor": 5
}
