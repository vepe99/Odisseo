{
 "cells": [
  {
   "cell_type": "code",
   "execution_count": 1,
   "metadata": {},
   "outputs": [],
   "source": [
    "from typing import Optional, Tuple, Callable, Union, List\n",
    "from functools import partial\n",
    "\n",
    "import jax\n",
    "import jax.numpy as jnp\n",
    "from jax import vmap, jit, lax\n",
    "from jax import random"
   ]
  },
  {
   "cell_type": "code",
   "execution_count": 17,
   "metadata": {},
   "outputs": [
    {
     "data": {
      "text/plain": [
       "Array([3, 4], dtype=int32)"
      ]
     },
     "execution_count": 17,
     "metadata": {},
     "output_type": "execute_result"
    }
   ],
   "source": [
    "def multiply(x, time_tree):\n",
    "    if time_tree is False:\n",
    "        return x\n",
    "    else:\n",
    "        return x * 3\n",
    "\n",
    "def add(x, add_tree):\n",
    "    if add_tree is False:\n",
    "        return x\n",
    "    else:\n",
    "        return x + 3\n",
    "\n",
    "ALL_POTENTIAL_FUNCTIONS = [lambda x: multiply(x, time_tree=True), lambda x: add(x, add_tree=True)]\n",
    "index = jnp.array([0, 1])\n",
    "x = jnp.repeat(jnp.array([1]), 2, axis=0)\n",
    "\n",
    "vmap_function = vmap(lambda i, x: lax.switch(i, ALL_POTENTIAL_FUNCTIONS, x))\n",
    "vmap_function(index, x)"
   ]
  },
  {
   "cell_type": "code",
   "execution_count": 15,
   "metadata": {},
   "outputs": [
    {
     "data": {
      "text/plain": [
       "Array([[ 2.,  2.,  2.,  2.,  2.],\n",
       "       [-2., -2., -2., -2., -2.],\n",
       "       [ 0.,  0.,  0.,  0.,  0.]], dtype=float32)"
      ]
     },
     "execution_count": 15,
     "metadata": {},
     "output_type": "execute_result"
    }
   ],
   "source": [
    "def func1(x):\n",
    "  return 2 * x\n",
    "\n",
    "def func2(x):\n",
    "  return -2 * x\n",
    "\n",
    "def func3(x):\n",
    "  return 0 * x\n",
    "\n",
    "functions = [func1, func2, func3]\n",
    "index = jnp.arange(len(functions))\n",
    "x = jnp.ones((3, 5))\n",
    "\n",
    "vmap_functions = vmap(lambda i, x: lax.switch(i, functions, x))\n",
    "vmap_functions(index, x)"
   ]
  },
  {
   "cell_type": "code",
   "execution_count": 16,
   "metadata": {},
   "outputs": [
    {
     "data": {
      "text/plain": [
       "Array([0, 1, 2], dtype=int32)"
      ]
     },
     "execution_count": 16,
     "metadata": {},
     "output_type": "execute_result"
    }
   ],
   "source": [
    "index"
   ]
  },
  {
   "cell_type": "code",
   "execution_count": null,
   "metadata": {},
   "outputs": [],
   "source": []
  }
 ],
 "metadata": {
  "kernelspec": {
   "display_name": "Python jdgsim",
   "language": "python",
   "name": "jdgsim"
  },
  "language_info": {
   "codemirror_mode": {
    "name": "ipython",
    "version": 3
   },
   "file_extension": ".py",
   "mimetype": "text/x-python",
   "name": "python",
   "nbconvert_exporter": "python",
   "pygments_lexer": "ipython3",
   "version": "3.12.8"
  }
 },
 "nbformat": 4,
 "nbformat_minor": 2
}
