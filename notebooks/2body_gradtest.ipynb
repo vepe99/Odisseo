{
 "cells": [
  {
   "cell_type": "code",
   "execution_count": 1,
   "metadata": {},
   "outputs": [],
   "source": [
    "import os\n",
    "# os.environ[\"CUDA_VISIBLE_DEVICES\"] = \"0\"  # Use only the first GPU\n",
    "from typing import Optional, Tuple, Callable, Union, List\n",
    "from functools import partial\n",
    "\n",
    "import matplotlib.pyplot as plt\n",
    "import jax\n",
    "import jax.numpy as jnp\n",
    "from jax import vmap, jit\n",
    "from jax import random\n",
    "jax.config.update(\"jax_enable_x64\", True)\n",
    "\n",
    "import numpy as np\n",
    "from astropy import units as u\n",
    "from astropy import constants as c\n",
    "\n",
    "import jdgsim\n",
    "from jdgsim import construct_initial_state\n",
    "from jdgsim.integrators import leapfrog\n",
    "from jdgsim.dynamics import direct_acc, DIRECT_ACC, DIRECT_ACC_LAXMAP\n",
    "from jdgsim.option_classes import SimulationConfig, SimulationParams, NFWParams\n",
    "from jdgsim.initial_condition import Plummer_sphere, ic_two_body\n",
    "from jdgsim.utils import center_of_mass, E_tot, Angular_momentum\n",
    "from jdgsim.time_integration import time_integration\n",
    "from jdgsim.units import CodeUnits\n",
    "\n",
    "plt.rcParams.update({\n",
    "    'font.size': 15,\n",
    "    'axes.labelsize': 15,\n",
    "    'xtick.labelsize': 10,\n",
    "    'ytick.labelsize': 10,\n",
    "    'legend.fontsize': 15,\n",
    "})"
   ]
  },
  {
   "cell_type": "markdown",
   "metadata": {},
   "source": [
    "# 2 body problem"
   ]
  },
  {
   "cell_type": "code",
   "execution_count": 2,
   "metadata": {},
   "outputs": [],
   "source": [
    "code_length = 0.10 * u.kpc\n",
    "code_mass = 1 * u.Msun\n",
    "G = 1 \n",
    "code_units = CodeUnits(code_length, code_mass, G=G)"
   ]
  },
  {
   "cell_type": "code",
   "execution_count": 7,
   "metadata": {},
   "outputs": [
    {
     "name": "stdout",
     "output_type": "stream",
     "text": [
      "SimulationConfig(N_particles=2, dimensions=3, return_snapshots=False, num_snapshots=100, fixed_timestep=True, num_timesteps=10, softening=0.001, integrator=0, acceleration_scheme=0, batch_size=10000, double_map=True, external_accelerations=())\n",
      "SimulationParams(G=1, t_end=0.006707087409203456, Plummer_params=PlummerParams(a=<Quantity 7. kpc>, Mtot=<Quantity 1. solMass>), NFW_params=NFWParams(Mvir=<Quantity 1.62e+11 solMass>, r_s=<Quantity 15.3 kpc>, c=10, d_c=1.4888043637074615), PointMass_params=PointMassParams(M=<Quantity 1. solMass>), MN_params=MNParams(M=<Quantity 6.5e+10 solMass>, a=<Quantity 3. kpc>, b=<Quantity 0.28 kpc>))\n",
      "lo10(- Total Energy): 3.1654009278422692, Lz: 3.1465838776377626\n",
      "Gradient of the total mass of the Plummer sphere:\n",
      " -7.339575754297227\n",
      "Loss:\n",
      " 363.5115742393411\n"
     ]
    }
   ],
   "source": [
    "# Define the \n",
    "config = SimulationConfig(N_particles=2, \n",
    "                          return_snapshots=False, \n",
    "                          num_snapshots=100,\n",
    "                          num_timesteps=10, \n",
    "                          acceleration_scheme=DIRECT_ACC,\n",
    "                          double_map=True, \n",
    "                          external_accelerations=(), softening=1e-3) #default values\n",
    "\n",
    "params = SimulationParams(t_end = (0.1*u.Gyr).to(code_units.code_time).value, \n",
    "                          G=1) #default values\n",
    "\n",
    "print(config)\n",
    "print(params)\n",
    "\n",
    "mass1 = (100*u.Msun).to(code_units.code_mass).value\n",
    "mass2 = (1*u.Msun).to(code_units.code_mass).value\n",
    "rp = (0.01*u.kpc).to(code_units.code_length).value\n",
    "pos, vel, mass = ic_two_body(mass1, \n",
    "                             mass2, \n",
    "                             rp=rp, \n",
    "                             e=0., \n",
    "                             config=config, \n",
    "                             params=params)\n",
    "mass = jnp.array([mass1, mass2])\n",
    "initial_state = construct_initial_state(pos, vel)\n",
    "target_state = time_integration(initial_state, mass, config, params)\n",
    "energy_target, Lz_target = E_tot(target_state, mass, config, params), Angular_momentum(target_state, mass, )[2]\n",
    "print(f\"lo10(- Total Energy): {jnp.log10(-energy_target)}, Lz: {Lz_target}\")\n",
    "\n",
    "\n",
    "\n",
    "def time_integration_for_mass_grad(big_mass, ):\n",
    "    params = SimulationParams(t_end = (0.1*u.Gyr).to(code_units.code_time).value, \n",
    "                            G=1) #default values\n",
    "    \n",
    "    mass1 = big_mass\n",
    "    mass2 = (1*u.Msun).to(code_units.code_mass).value\n",
    "    rp = (0.01*u.kpc).to(code_units.code_length).value\n",
    "    pos, vel, mass = ic_two_body(mass1, \n",
    "                                mass2, \n",
    "                                rp=rp, \n",
    "                                e=0., \n",
    "                                config=config, \n",
    "                                params=params)\n",
    "    mass = jnp.array([mass1, mass2])\n",
    "    initial_state = construct_initial_state(pos, vel)\n",
    "    final_state = time_integration(initial_state, mass, config, params)\n",
    "    energy, Lz = E_tot(final_state, mass, config, params), Angular_momentum(final_state, mass,)[2]\n",
    "    loss = (abs((energy - energy_target)) + abs((Lz - Lz_target)))/2\n",
    "    # jax.debug.print(f\"Loss: {loss}\")\n",
    "    return loss\n",
    "\n",
    "\n",
    "# Calculate the value of the function and the gradient wrt the total mass of the plummer sphere\n",
    "Mtot = (50 * u.Msun).to(code_units.code_mass).value\n",
    "loss, grad = jax.value_and_grad(time_integration_for_mass_grad)(Mtot, )\n",
    "print(\"Gradient of the total mass of the Plummer sphere:\\n\", grad)\n",
    "print(\"Loss:\\n\", loss)  \n"
   ]
  },
  {
   "cell_type": "code",
   "execution_count": null,
   "metadata": {},
   "outputs": [],
   "source": []
  }
 ],
 "metadata": {
  "kernelspec": {
   "display_name": "test_sstrax",
   "language": "python",
   "name": "python3"
  },
  "language_info": {
   "codemirror_mode": {
    "name": "ipython",
    "version": 3
   },
   "file_extension": ".py",
   "mimetype": "text/x-python",
   "name": "python",
   "nbconvert_exporter": "python",
   "pygments_lexer": "ipython3",
   "version": "3.12.7"
  }
 },
 "nbformat": 4,
 "nbformat_minor": 2
}
