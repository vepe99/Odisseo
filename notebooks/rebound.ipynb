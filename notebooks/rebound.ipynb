{
 "cells": [
  {
   "cell_type": "code",
   "execution_count": 13,
   "metadata": {},
   "outputs": [],
   "source": [
    "import rebound\n",
    "import matplotlib.pyplot as plt "
   ]
  },
  {
   "cell_type": "code",
   "execution_count": null,
   "metadata": {},
   "outputs": [
    {
     "name": "stdout",
     "output_type": "stream",
     "text": [
      "0.00013790311117322193 0.11100285684422301 0.0\n",
      "0.7620968888267416 -0.3934338982348915 0.0\n",
      "-1.5948501191422586 0.20487096187183235 0.0\n",
      "<rebound.Orbit instance, a=1.0 e=0.10000000000000014 inc=0.0 Omega=0.0 omega=0.0 f=5.698402270530103>\n",
      "<rebound.Orbit instance, a=1.4174273398342743 e=0.1298828279311356 inc=0.0 Omega=0.0 omega=0.09938842199491837 f=2.9831333920230936>\n"
     ]
    }
   ],
   "source": [
    "sim = rebound.Simulation()\n",
    "\n",
    "sim.add(m=1.)                # Central object\n",
    "sim.add(m=1e-3, a=1., e=0.1) # Jupiter mass planet \n",
    "sim.add(a=1.4, e=0.1)        # Massless test particle\n",
    "\n",
    "sim.integrate(100.)\n",
    "\n",
    "for p in sim.particles:\n",
    "    print(p.x, p.y, p.z)\n",
    "for o in sim.orbits(): \n",
    "    print(o)\n",
    "\n"
   ]
  },
  {
   "cell_type": "code",
   "execution_count": 16,
   "metadata": {},
   "outputs": [
    {
     "name": "stderr",
     "output_type": "stream",
     "text": [
      "UsageError: Line magic function `%` not found.\n"
     ]
    }
   ],
   "source": [
    "% matplotlib inline\n",
    "op = rebound.OrbitPlot(sim)"
   ]
  },
  {
   "cell_type": "code",
   "execution_count": null,
   "metadata": {},
   "outputs": [],
   "source": []
  }
 ],
 "metadata": {
  "kernelspec": {
   "display_name": "test_sstrax",
   "language": "python",
   "name": "python3"
  },
  "language_info": {
   "codemirror_mode": {
    "name": "ipython",
    "version": 3
   },
   "file_extension": ".py",
   "mimetype": "text/x-python",
   "name": "python",
   "nbconvert_exporter": "python",
   "pygments_lexer": "ipython3",
   "version": "3.12.7"
  }
 },
 "nbformat": 4,
 "nbformat_minor": 2
}
