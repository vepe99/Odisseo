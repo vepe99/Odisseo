{
 "cells": [
  {
   "cell_type": "code",
   "execution_count": 4,
   "metadata": {},
   "outputs": [],
   "source": [
    "import rebound\n",
    "\n",
    "import numpy as np\n",
    "import matplotlib.pyplot as plt "
   ]
  },
  {
   "cell_type": "code",
   "execution_count": null,
   "metadata": {},
   "outputs": [],
   "source": [
    "sim."
   ]
  },
  {
   "cell_type": "code",
   "execution_count": 8,
   "metadata": {},
   "outputs": [
    {
     "ename": "KeyboardInterrupt",
     "evalue": "",
     "output_type": "error",
     "traceback": [
      "\u001b[0;31m---------------------------------------------------------------------------\u001b[0m",
      "\u001b[0;31mKeyboardInterrupt\u001b[0m                         Traceback (most recent call last)",
      "Cell \u001b[0;32mIn[8], line 29\u001b[0m\n\u001b[1;32m     26\u001b[0m sim\u001b[38;5;241m.\u001b[39mdt \u001b[38;5;241m=\u001b[39m \u001b[38;5;241m0.01\u001b[39m  \u001b[38;5;66;03m# Set timestep if needed\u001b[39;00m\n\u001b[1;32m     28\u001b[0m \u001b[38;5;66;03m# Run the simulation\u001b[39;00m\n\u001b[0;32m---> 29\u001b[0m sim\u001b[38;5;241m.\u001b[39mintegrate(\u001b[38;5;241m100\u001b[39m)\n\u001b[1;32m     31\u001b[0m \u001b[38;5;66;03m# Optionally retrieve the final state\u001b[39;00m\n\u001b[1;32m     32\u001b[0m final_positions \u001b[38;5;241m=\u001b[39m np\u001b[38;5;241m.\u001b[39marray([[p\u001b[38;5;241m.\u001b[39mx, p\u001b[38;5;241m.\u001b[39my, p\u001b[38;5;241m.\u001b[39mz] \u001b[38;5;28;01mfor\u001b[39;00m p \u001b[38;5;129;01min\u001b[39;00m sim\u001b[38;5;241m.\u001b[39mparticles])\n",
      "File \u001b[0;32m~/miniconda3/envs/test_sstrax/lib/python3.12/site-packages/rebound/simulation.py:1403\u001b[0m, in \u001b[0;36mSimulation.integrate\u001b[0;34m(self, tmax, exact_finish_time)\u001b[0m\n\u001b[1;32m   1401\u001b[0m     \u001b[38;5;28;01mpass\u001b[39;00m \u001b[38;5;66;03m# User caused exit. Do not raise error message\u001b[39;00m\n\u001b[1;32m   1402\u001b[0m \u001b[38;5;28;01mif\u001b[39;00m ret_value \u001b[38;5;241m==\u001b[39m \u001b[38;5;241m6\u001b[39m:\n\u001b[0;32m-> 1403\u001b[0m     \u001b[38;5;28;01mraise\u001b[39;00m \u001b[38;5;167;01mKeyboardInterrupt\u001b[39;00m\n\u001b[1;32m   1404\u001b[0m \u001b[38;5;28;01mif\u001b[39;00m ret_value \u001b[38;5;241m==\u001b[39m \u001b[38;5;241m7\u001b[39m:\n\u001b[1;32m   1405\u001b[0m     \u001b[38;5;28;01mraise\u001b[39;00m Collision(\u001b[38;5;124m\"\u001b[39m\u001b[38;5;124mTwo particles collided (d < r1+r2)\u001b[39m\u001b[38;5;124m\"\u001b[39m)\n",
      "\u001b[0;31mKeyboardInterrupt\u001b[0m: "
     ]
    }
   ],
   "source": [
    "# Create a new simulation\n",
    "sim = rebound.Simulation()\n",
    "\n",
    "# Example: Define your particles\n",
    "# For demonstration - replace these with your actual data\n",
    "num_particles = 10_000\n",
    "positions = np.random.normal(0, 1, size=(num_particles, 3))  # [x,y,z] positions\n",
    "velocities = np.random.normal(0, 0.1, size=(num_particles, 3))  # [vx,vy,vz] velocities\n",
    "masses = np.random.uniform(0.001, 0.01, size=num_particles)  # masses\n",
    "\n",
    "\n",
    "# Alternative: Add many particles at once\n",
    "positions_flat = positions.reshape(-1)  # Flatten to [x1,y1,z1,x2,y2,z2,...]\n",
    "velocities_flat = velocities.reshape(-1)  # Flatten similarly\n",
    "\n",
    "# Add particles to the simulation\n",
    "for i in range(num_particles):\n",
    "    sim.add(\n",
    "        m=masses[i],\n",
    "        x=positions[i, 0], y=positions[i, 1], z=positions[i, 2],\n",
    "        vx=velocities[i, 0], vy=velocities[i, 1], vz=velocities[i, 2]\n",
    "    )\n",
    "\n",
    "# Configure the simulation\n",
    "sim.integrator = \"leapfrog\"\n",
    "sim.dt = 0.01  # Set timestep if needed\n",
    "\n",
    "# Run the simulation\n",
    "sim.integrate(100)\n",
    "\n",
    "# Optionally retrieve the final state\n",
    "final_positions = np.array([[p.x, p.y, p.z] for p in sim.particles])\n",
    "final_velocities = np.array([[p.vx, p.vy, p.vz] for p in sim.particles])\n",
    "\n"
   ]
  },
  {
   "cell_type": "code",
   "execution_count": 16,
   "metadata": {},
   "outputs": [
    {
     "name": "stderr",
     "output_type": "stream",
     "text": [
      "UsageError: Line magic function `%` not found.\n"
     ]
    }
   ],
   "source": [
    "% matplotlib inline\n",
    "op = rebound.OrbitPlot(sim)"
   ]
  },
  {
   "cell_type": "code",
   "execution_count": 10,
   "metadata": {},
   "outputs": [
    {
     "ename": "TypeError",
     "evalue": "only length-1 arrays can be converted to Python scalars",
     "output_type": "error",
     "traceback": [
      "\u001b[0;31m---------------------------------------------------------------------------\u001b[0m",
      "\u001b[0;31mTypeError\u001b[0m                                 Traceback (most recent call last)",
      "Cell \u001b[0;32mIn[10], line 16\u001b[0m\n\u001b[1;32m     13\u001b[0m velocities_flat \u001b[38;5;241m=\u001b[39m velocities\u001b[38;5;241m.\u001b[39mreshape(\u001b[38;5;241m-\u001b[39m\u001b[38;5;241m1\u001b[39m)  \u001b[38;5;66;03m# Flatten similarly\u001b[39;00m\n\u001b[1;32m     15\u001b[0m sim \u001b[38;5;241m=\u001b[39m rebound\u001b[38;5;241m.\u001b[39mSimulation()\n\u001b[0;32m---> 16\u001b[0m particle \u001b[38;5;241m=\u001b[39m rebound\u001b[38;5;241m.\u001b[39mParticle(m\u001b[38;5;241m=\u001b[39mmasses, x\u001b[38;5;241m=\u001b[39mpositions_flat[::\u001b[38;5;241m3\u001b[39m], y\u001b[38;5;241m=\u001b[39mpositions_flat[\u001b[38;5;241m1\u001b[39m::\u001b[38;5;241m3\u001b[39m], \n\u001b[1;32m     17\u001b[0m                  z\u001b[38;5;241m=\u001b[39mpositions_flat[\u001b[38;5;241m2\u001b[39m::\u001b[38;5;241m3\u001b[39m], vx\u001b[38;5;241m=\u001b[39mvelocities_flat[::\u001b[38;5;241m3\u001b[39m], vy\u001b[38;5;241m=\u001b[39mvelocities_flat[\u001b[38;5;241m1\u001b[39m::\u001b[38;5;241m3\u001b[39m], \n\u001b[1;32m     18\u001b[0m                  vz\u001b[38;5;241m=\u001b[39mvelocities_flat[\u001b[38;5;241m2\u001b[39m::\u001b[38;5;241m3\u001b[39m])\n",
      "File \u001b[0;32m~/miniconda3/envs/test_sstrax/lib/python3.12/site-packages/rebound/particle.py:291\u001b[0m, in \u001b[0;36mParticle.__init__\u001b[0;34m(self, simulation, particle, m, x, y, z, vx, vy, vz, primary, a, P, e, inc, Omega, omega, pomega, f, M, E, l, theta, T, r, date, variation, variation2, h, k, ix, iy, pal_h, pal_k, pal_ix, pal_iy, hash, jacobi_masses)\u001b[0m\n\u001b[1;32m    289\u001b[0m     \u001b[38;5;28mself\u001b[39m\u001b[38;5;241m.\u001b[39mm \u001b[38;5;241m=\u001b[39m \u001b[38;5;241m0.\u001b[39m\n\u001b[1;32m    290\u001b[0m \u001b[38;5;28;01melse\u001b[39;00m:\n\u001b[0;32m--> 291\u001b[0m     \u001b[38;5;28mself\u001b[39m\u001b[38;5;241m.\u001b[39mm \u001b[38;5;241m=\u001b[39m m \n\u001b[1;32m    292\u001b[0m \u001b[38;5;28;01mif\u001b[39;00m r \u001b[38;5;129;01mis\u001b[39;00m \u001b[38;5;28;01mNone\u001b[39;00m:\n\u001b[1;32m    293\u001b[0m     \u001b[38;5;28mself\u001b[39m\u001b[38;5;241m.\u001b[39mr \u001b[38;5;241m=\u001b[39m \u001b[38;5;241m0.\u001b[39m\n",
      "\u001b[0;31mTypeError\u001b[0m: only length-1 arrays can be converted to Python scalars"
     ]
    }
   ],
   "source": [
    "\n",
    "# Create a new simulation\n",
    "sim = rebound.Simulation()\n",
    "\n",
    "# Example: Define your particles\n",
    "# For demonstration - replace these with your actual data\n",
    "num_particles = 100\n",
    "positions = np.random.normal(0, 1, size=(num_particles, 3))  # [x,y,z] positions\n",
    "velocities = np.random.normal(0, 0.1, size=(num_particles, 3))  # [vx,vy,vz] velocities\n",
    "masses = np.random.uniform(0.001, 0.01, size=num_particles)  # masses\n",
    "\n",
    "# Alternative: Add many particles at once\n",
    "positions_flat = positions.reshape(-1)  # Flatten to [x1,y1,z1,x2,y2,z2,...]\n",
    "velocities_flat = velocities.reshape(-1)  # Flatten similarly\n",
    "\n",
    "sim = rebound.Simulation()\n",
    "particle = rebound.Particle(m=masses, x=positions_flat[::3], y=positions_flat[1::3], \n",
    "                 z=positions_flat[2::3], vx=velocities_flat[::3], vy=velocities_flat[1::3], \n",
    "                 vz=velocities_flat[2::3])"
   ]
  },
  {
   "cell_type": "code",
   "execution_count": null,
   "metadata": {},
   "outputs": [],
   "source": [
    "particles = rebound.Particle()"
   ]
  }
 ],
 "metadata": {
  "kernelspec": {
   "display_name": "test_sstrax",
   "language": "python",
   "name": "python3"
  },
  "language_info": {
   "codemirror_mode": {
    "name": "ipython",
    "version": 3
   },
   "file_extension": ".py",
   "mimetype": "text/x-python",
   "name": "python",
   "nbconvert_exporter": "python",
   "pygments_lexer": "ipython3",
   "version": "3.12.7"
  }
 },
 "nbformat": 4,
 "nbformat_minor": 2
}
